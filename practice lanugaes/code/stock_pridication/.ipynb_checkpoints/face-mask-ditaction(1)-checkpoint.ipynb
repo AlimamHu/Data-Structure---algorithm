{
 "cells": [
  {
   "cell_type": "code",
   "execution_count": 2,
   "metadata": {
    "_cell_guid": "b1076dfc-b9ad-4769-8c92-a6c4dae69d19",
    "_kg_hide-output": false,
    "_uuid": "8f2839f25d086af736a60e9eeb907d3b93b6e0e5",
    "execution": {
     "iopub.execute_input": "2022-03-12T09:28:24.781141Z",
     "iopub.status.busy": "2022-03-12T09:28:24.780330Z",
     "iopub.status.idle": "2022-03-12T09:28:35.595779Z",
     "shell.execute_reply": "2022-03-12T09:28:35.594656Z",
     "shell.execute_reply.started": "2022-03-12T09:28:24.781086Z"
    },
    "scrolled": true
   },
   "outputs": [],
   "source": [
    "# This Python 3 environment comes with many helpful analytics libraries installed\n",
    "# It is defined by the kaggle/python Docker image: https://github.com/kaggle/docker-python\n",
    "# For example, here's several helpful packages to load\n",
    "\n",
    "import numpy as np # linear algebra\n",
    "import pandas as pd # data processing, CSV file I/O (e.g. pd.read_csv)\n",
    "\n",
    "# Input data files are available in the read-only \"../input/\" directory\n",
    "# For example, running this (by clicking run or pressing Shift+Enter) will list all files under the input directory\n",
    "\n",
    "import os\n",
    "for dirname, _, filenames in os.walk('/kaggle/input'):\n",
    "    for filename in filenames:\n",
    "        print(os.path.join(dirname, filename))\n",
    "\n",
    "# You can write up to 20GB to the current directory (/kaggle/working/) that gets preserved as output when you create a version using \"Save & Run All\" \n",
    "# You can also write temporary files to /kaggle/temp/, but they won't be saved outside of the current session"
   ]
  },
  {
   "cell_type": "markdown",
   "metadata": {
    "execution": {
     "iopub.execute_input": "2022-03-12T05:35:52.997831Z",
     "iopub.status.busy": "2022-03-12T05:35:52.997479Z",
     "iopub.status.idle": "2022-03-12T05:35:53.003023Z",
     "shell.execute_reply": "2022-03-12T05:35:53.00189Z",
     "shell.execute_reply.started": "2022-03-12T05:35:52.997799Z"
    }
   },
   "source": [
    "**Objective** is to build a Deep Learning model which can identify if the person is **wearing a mask or not**, also detecting if *people* vilating social *distancing* norms"
   ]
  },
  {
   "cell_type": "code",
   "execution_count": 3,
   "metadata": {
    "execution": {
     "iopub.execute_input": "2022-03-12T09:28:35.597717Z",
     "iopub.status.busy": "2022-03-12T09:28:35.597486Z",
     "iopub.status.idle": "2022-03-12T09:28:35.603720Z",
     "shell.execute_reply": "2022-03-12T09:28:35.602808Z",
     "shell.execute_reply.started": "2022-03-12T09:28:35.597690Z"
    }
   },
   "outputs": [],
   "source": [
    "path_of_img='../input/face-mask-detection/images/'\n",
    "list_of_img=os.listdir('../input/face-mask-detection/images/')"
   ]
  },
  {
   "cell_type": "code",
   "execution_count": 4,
   "metadata": {
    "execution": {
     "iopub.execute_input": "2022-03-12T09:28:35.605698Z",
     "iopub.status.busy": "2022-03-12T09:28:35.605423Z",
     "iopub.status.idle": "2022-03-12T09:28:36.403983Z",
     "shell.execute_reply": "2022-03-12T09:28:36.403280Z",
     "shell.execute_reply.started": "2022-03-12T09:28:35.605655Z"
    }
   },
   "outputs": [],
   "source": [
    "import cv2\n",
    "from scipy.spatial import distance\n",
    "\n",
    "import matplotlib.pyplot as plt\n",
    "\n",
    "face_model1=cv2.CascadeClassifier(\"../input/haarcascades/haarcascade_frontalface_default.xml\")"
   ]
  },
  {
   "cell_type": "markdown",
   "metadata": {},
   "source": [
    "# finding mask with simple module"
   ]
  },
  {
   "cell_type": "code",
   "execution_count": 7,
   "metadata": {
    "execution": {
     "iopub.execute_input": "2022-03-12T09:28:52.277627Z",
     "iopub.status.busy": "2022-03-12T09:28:52.277332Z",
     "iopub.status.idle": "2022-03-12T09:28:52.780128Z",
     "shell.execute_reply": "2022-03-12T09:28:52.778911Z",
     "shell.execute_reply.started": "2022-03-12T09:28:52.277596Z"
    }
   },
   "outputs": [],
   "source": [
    "# img=cv2.imread(\"../input/face-mask-detection/images/maksssksksss1.png\")\n",
    "img=cv2.imread(path_of_img+list_of_img[2])\n",
    "\n",
    "img=cv2.cvtColor(img,cv2.IMREAD_GRAYSCALE)       # convert img into array\n",
    "\n",
    "faces=face_model1.detectMultiScale(img,scaleFactor=1.1, minNeighbors=4)   # give array values x,y,z,h\n",
    "\n",
    "out=cv2.cvtColor(img,cv2.COLOR_RGB2BGR)   # allso convert into array output\n",
    "\n",
    "for (x,y,w,h) in faces:\n",
    "    cv2.rectangle(out,(x,y),(x+w,y+h),(255,0,0),1)\n",
    "plt.figure(figsize=(12,12))\n",
    "plt.imshow(out)"
   ]
  },
  {
   "cell_type": "code",
   "execution_count": null,
   "metadata": {},
   "outputs": [],
   "source": []
  },
  {
   "cell_type": "markdown",
   "metadata": {},
   "source": [
    "# Now pick randomily 5 images try to finding mask"
   ]
  },
  {
   "cell_type": "code",
   "execution_count": 6,
   "metadata": {
    "execution": {
     "iopub.execute_input": "2022-03-12T09:28:36.889558Z",
     "iopub.status.busy": "2022-03-12T09:28:36.889270Z",
     "iopub.status.idle": "2022-03-12T09:28:39.908588Z",
     "shell.execute_reply": "2022-03-12T09:28:39.907222Z",
     "shell.execute_reply.started": "2022-03-12T09:28:36.889514Z"
    }
   },
   "outputs": [],
   "source": [
    "for i in range(0,5):\n",
    "    random_five_img=np.random.choice(list_of_img)\n",
    "\n",
    "    img=cv2.imread(path_of_img+random_five_img)   #list_of_img[2]\n",
    "\n",
    "    img=cv2.cvtColor(img,cv2.IMREAD_GRAYSCALE) \n",
    "    faces=face_model1.detectMultiScale(img,scaleFactor=1.1, minNeighbors=4)\n",
    "    out=cv2.cvtColor(img,cv2.COLOR_RGB2BGR)\n",
    "\n",
    "    for (x,y,w,h) in faces:\n",
    "        cv2.rectangle(out,(x,y),(x+w,y+h),(255,0,0),1)\n",
    "    plt.figure(figsize=(12,12))\n",
    "    plt.imshow(out)"
   ]
  },
  {
   "cell_type": "code",
   "execution_count": null,
   "metadata": {},
   "outputs": [],
   "source": []
  }
 ],
 "metadata": {
  "kernelspec": {
   "display_name": "Python 3 (ipykernel)",
   "language": "python",
   "name": "python3"
  },
  "language_info": {
   "codemirror_mode": {
    "name": "ipython",
    "version": 3
   },
   "file_extension": ".py",
   "mimetype": "text/x-python",
   "name": "python",
   "nbconvert_exporter": "python",
   "pygments_lexer": "ipython3",
   "version": "3.9.10"
  }
 },
 "nbformat": 4,
 "nbformat_minor": 4
}
