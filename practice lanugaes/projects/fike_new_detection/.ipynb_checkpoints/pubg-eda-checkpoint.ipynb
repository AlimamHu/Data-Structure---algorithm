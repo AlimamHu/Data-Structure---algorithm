{
 "cells": [
  {
   "cell_type": "code",
   "execution_count": 1,
   "id": "d98da0dc",
   "metadata": {
    "execution": {
     "iopub.execute_input": "2022-04-06T18:52:21.096206Z",
     "iopub.status.busy": "2022-04-06T18:52:21.095332Z",
     "iopub.status.idle": "2022-04-06T18:52:23.815011Z",
     "shell.execute_reply": "2022-04-06T18:52:23.814446Z",
     "shell.execute_reply.started": "2022-04-06T18:30:26.609838Z"
    },
    "papermill": {
     "duration": 2.782901,
     "end_time": "2022-04-06T18:52:23.815173",
     "exception": false,
     "start_time": "2022-04-06T18:52:21.032272",
     "status": "completed"
    },
    "tags": []
   },
   "outputs": [
    {
     "data": {
      "text/html": [
       "<style type='text/css'>\n",
       ".datatable table.frame { margin-bottom: 0; }\n",
       ".datatable table.frame thead { border-bottom: none; }\n",
       ".datatable table.frame tr.coltypes td {  color: #FFFFFF;  line-height: 6px;  padding: 0 0.5em;}\n",
       ".datatable .bool    { background: #DDDD99; }\n",
       ".datatable .object  { background: #565656; }\n",
       ".datatable .int     { background: #5D9E5D; }\n",
       ".datatable .float   { background: #4040CC; }\n",
       ".datatable .str     { background: #CC4040; }\n",
       ".datatable .time    { background: #40CC40; }\n",
       ".datatable .row_index {  background: var(--jp-border-color3);  border-right: 1px solid var(--jp-border-color0);  color: var(--jp-ui-font-color3);  font-size: 9px;}\n",
       ".datatable .frame tbody td { text-align: left; }\n",
       ".datatable .frame tr.coltypes .row_index {  background: var(--jp-border-color0);}\n",
       ".datatable th:nth-child(2) { padding-left: 12px; }\n",
       ".datatable .hellipsis {  color: var(--jp-cell-editor-border-color);}\n",
       ".datatable .vellipsis {  background: var(--jp-layout-color0);  color: var(--jp-cell-editor-border-color);}\n",
       ".datatable .na {  color: var(--jp-cell-editor-border-color);  font-size: 80%;}\n",
       ".datatable .sp {  opacity: 0.25;}\n",
       ".datatable .footer { font-size: 9px; }\n",
       ".datatable .frame_dimensions {  background: var(--jp-border-color3);  border-top: 1px solid var(--jp-border-color0);  color: var(--jp-ui-font-color3);  display: inline-block;  opacity: 0.6;  padding: 1px 10px 1px 5px;}\n",
       "</style>\n"
      ],
      "text/plain": [
       "<IPython.core.display.HTML object>"
      ]
     },
     "metadata": {},
     "output_type": "display_data"
    }
   ],
   "source": [
    "\n",
    "\n",
    "import numpy as np \n",
    "import pandas as pd \n",
    "\n",
    "import seaborn as sns\n",
    "from sklearn.model_selection import train_test_split\n",
    "from sklearn.metrics import mean_absolute_error\n",
    "from sklearn.linear_model import LinearRegression\n",
    "from sklearn.tree import DecisionTreeRegressor\n",
    "from lightgbm import LGBMRegressor\n",
    "from sklearn.ensemble import RandomForestRegressor\n",
    "import xgboost as xgb\n",
    "from sklearn.preprocessing import StandardScaler\n",
    "from gc import collect \n"
   ]
  },
  {
   "cell_type": "code",
   "execution_count": 2,
   "id": "7e7ce115",
   "metadata": {
    "execution": {
     "iopub.execute_input": "2022-04-06T18:52:23.951490Z",
     "iopub.status.busy": "2022-04-06T18:52:23.950278Z",
     "iopub.status.idle": "2022-04-06T18:52:23.955550Z",
     "shell.execute_reply": "2022-04-06T18:52:23.955065Z",
     "shell.execute_reply.started": "2022-04-06T18:30:29.100312Z"
    },
    "papermill": {
     "duration": 0.069317,
     "end_time": "2022-04-06T18:52:23.955715",
     "exception": false,
     "start_time": "2022-04-06T18:52:23.886398",
     "status": "completed"
    },
    "tags": []
   },
   "outputs": [],
   "source": [
    "\n",
    "pd.set_option('display.max_columns', 40)\n",
    "\n"
   ]
  },
  {
   "cell_type": "code",
   "execution_count": 3,
   "id": "f4329e8a",
   "metadata": {
    "execution": {
     "iopub.execute_input": "2022-04-06T18:52:24.082137Z",
     "iopub.status.busy": "2022-04-06T18:52:24.081593Z",
     "iopub.status.idle": "2022-04-06T18:52:25.768419Z",
     "shell.execute_reply": "2022-04-06T18:52:25.767865Z",
     "shell.execute_reply.started": "2022-04-06T18:36:58.424513Z"
    },
    "papermill": {
     "duration": 1.752238,
     "end_time": "2022-04-06T18:52:25.768534",
     "exception": false,
     "start_time": "2022-04-06T18:52:24.016296",
     "status": "completed"
    },
    "tags": []
   },
   "outputs": [],
   "source": [
    "submission_function=pd.read_csv('/kaggle/input/pubg-finish-placement-prediction/sample_submission_V2.csv') # example of how  summition look like "
   ]
  },
  {
   "cell_type": "code",
   "execution_count": 4,
   "id": "079869b5",
   "metadata": {
    "execution": {
     "iopub.execute_input": "2022-04-06T18:52:25.890288Z",
     "iopub.status.busy": "2022-04-06T18:52:25.889780Z",
     "iopub.status.idle": "2022-04-06T18:53:11.312949Z",
     "shell.execute_reply": "2022-04-06T18:53:11.312314Z",
     "shell.execute_reply.started": "2022-04-06T18:30:29.107122Z"
    },
    "papermill": {
     "duration": 45.486214,
     "end_time": "2022-04-06T18:53:11.313119",
     "exception": false,
     "start_time": "2022-04-06T18:52:25.826905",
     "status": "completed"
    },
    "tags": []
   },
   "outputs": [],
   "source": [
    "df_test=pd.read_csv('/kaggle/input/pubg-finish-placement-prediction/test_V2.csv')   # pridict the winPlacePerc\n",
    "# so over goal to pridict winPlacePerc for finding best correleted feature\n",
    "\n",
    "df=pd.read_csv('/kaggle/input/pubg-finish-placement-prediction/train_V2.csv')"
   ]
  },
  {
   "cell_type": "code",
   "execution_count": 5,
   "id": "59500594",
   "metadata": {
    "execution": {
     "iopub.execute_input": "2022-04-06T18:53:11.504396Z",
     "iopub.status.busy": "2022-04-06T18:53:11.503624Z",
     "iopub.status.idle": "2022-04-06T18:53:11.524401Z",
     "shell.execute_reply": "2022-04-06T18:53:11.524906Z",
     "shell.execute_reply.started": "2022-04-06T18:36:41.466024Z"
    },
    "papermill": {
     "duration": 0.118339,
     "end_time": "2022-04-06T18:53:11.525080",
     "exception": false,
     "start_time": "2022-04-06T18:53:11.406741",
     "status": "completed"
    },
    "tags": []
   },
   "outputs": [
    {
     "data": {
      "text/html": [
       "<div>\n",
       "<style scoped>\n",
       "    .dataframe tbody tr th:only-of-type {\n",
       "        vertical-align: middle;\n",
       "    }\n",
       "\n",
       "    .dataframe tbody tr th {\n",
       "        vertical-align: top;\n",
       "    }\n",
       "\n",
       "    .dataframe thead th {\n",
       "        text-align: right;\n",
       "    }\n",
       "</style>\n",
       "<table border=\"1\" class=\"dataframe\">\n",
       "  <thead>\n",
       "    <tr style=\"text-align: right;\">\n",
       "      <th></th>\n",
       "      <th>Id</th>\n",
       "      <th>groupId</th>\n",
       "      <th>matchId</th>\n",
       "      <th>assists</th>\n",
       "      <th>boosts</th>\n",
       "      <th>damageDealt</th>\n",
       "      <th>DBNOs</th>\n",
       "      <th>headshotKills</th>\n",
       "      <th>heals</th>\n",
       "      <th>killPlace</th>\n",
       "      <th>killPoints</th>\n",
       "      <th>kills</th>\n",
       "      <th>killStreaks</th>\n",
       "      <th>longestKill</th>\n",
       "      <th>matchDuration</th>\n",
       "      <th>matchType</th>\n",
       "      <th>maxPlace</th>\n",
       "      <th>numGroups</th>\n",
       "      <th>rankPoints</th>\n",
       "      <th>revives</th>\n",
       "      <th>rideDistance</th>\n",
       "      <th>roadKills</th>\n",
       "      <th>swimDistance</th>\n",
       "      <th>teamKills</th>\n",
       "      <th>vehicleDestroys</th>\n",
       "      <th>walkDistance</th>\n",
       "      <th>weaponsAcquired</th>\n",
       "      <th>winPoints</th>\n",
       "    </tr>\n",
       "  </thead>\n",
       "  <tbody>\n",
       "    <tr>\n",
       "      <th>0</th>\n",
       "      <td>9329eb41e215eb</td>\n",
       "      <td>676b23c24e70d6</td>\n",
       "      <td>45b576ab7daa7f</td>\n",
       "      <td>0</td>\n",
       "      <td>0</td>\n",
       "      <td>51.46</td>\n",
       "      <td>0</td>\n",
       "      <td>0</td>\n",
       "      <td>0</td>\n",
       "      <td>73</td>\n",
       "      <td>0</td>\n",
       "      <td>0</td>\n",
       "      <td>0</td>\n",
       "      <td>0.00</td>\n",
       "      <td>1884</td>\n",
       "      <td>squad-fpp</td>\n",
       "      <td>28</td>\n",
       "      <td>28</td>\n",
       "      <td>1500</td>\n",
       "      <td>0</td>\n",
       "      <td>0.0</td>\n",
       "      <td>0</td>\n",
       "      <td>0.0</td>\n",
       "      <td>0</td>\n",
       "      <td>0</td>\n",
       "      <td>588.0</td>\n",
       "      <td>1</td>\n",
       "      <td>0</td>\n",
       "    </tr>\n",
       "    <tr>\n",
       "      <th>1</th>\n",
       "      <td>639bd0dcd7bda8</td>\n",
       "      <td>430933124148dd</td>\n",
       "      <td>42a9a0b906c928</td>\n",
       "      <td>0</td>\n",
       "      <td>4</td>\n",
       "      <td>179.10</td>\n",
       "      <td>0</td>\n",
       "      <td>0</td>\n",
       "      <td>2</td>\n",
       "      <td>11</td>\n",
       "      <td>0</td>\n",
       "      <td>2</td>\n",
       "      <td>1</td>\n",
       "      <td>361.90</td>\n",
       "      <td>1811</td>\n",
       "      <td>duo-fpp</td>\n",
       "      <td>48</td>\n",
       "      <td>47</td>\n",
       "      <td>1503</td>\n",
       "      <td>2</td>\n",
       "      <td>4669.0</td>\n",
       "      <td>0</td>\n",
       "      <td>0.0</td>\n",
       "      <td>0</td>\n",
       "      <td>0</td>\n",
       "      <td>2017.0</td>\n",
       "      <td>6</td>\n",
       "      <td>0</td>\n",
       "    </tr>\n",
       "    <tr>\n",
       "      <th>2</th>\n",
       "      <td>63d5c8ef8dfe91</td>\n",
       "      <td>0b45f5db20ba99</td>\n",
       "      <td>87e7e4477a048e</td>\n",
       "      <td>1</td>\n",
       "      <td>0</td>\n",
       "      <td>23.40</td>\n",
       "      <td>0</td>\n",
       "      <td>0</td>\n",
       "      <td>4</td>\n",
       "      <td>49</td>\n",
       "      <td>0</td>\n",
       "      <td>0</td>\n",
       "      <td>0</td>\n",
       "      <td>0.00</td>\n",
       "      <td>1793</td>\n",
       "      <td>squad-fpp</td>\n",
       "      <td>28</td>\n",
       "      <td>27</td>\n",
       "      <td>1565</td>\n",
       "      <td>0</td>\n",
       "      <td>0.0</td>\n",
       "      <td>0</td>\n",
       "      <td>0.0</td>\n",
       "      <td>0</td>\n",
       "      <td>0</td>\n",
       "      <td>787.8</td>\n",
       "      <td>4</td>\n",
       "      <td>0</td>\n",
       "    </tr>\n",
       "    <tr>\n",
       "      <th>3</th>\n",
       "      <td>cf5b81422591d1</td>\n",
       "      <td>b7497dbdc77f4a</td>\n",
       "      <td>1b9a94f1af67f1</td>\n",
       "      <td>0</td>\n",
       "      <td>0</td>\n",
       "      <td>65.52</td>\n",
       "      <td>0</td>\n",
       "      <td>0</td>\n",
       "      <td>0</td>\n",
       "      <td>54</td>\n",
       "      <td>0</td>\n",
       "      <td>0</td>\n",
       "      <td>0</td>\n",
       "      <td>0.00</td>\n",
       "      <td>1834</td>\n",
       "      <td>duo-fpp</td>\n",
       "      <td>45</td>\n",
       "      <td>44</td>\n",
       "      <td>1465</td>\n",
       "      <td>0</td>\n",
       "      <td>0.0</td>\n",
       "      <td>0</td>\n",
       "      <td>0.0</td>\n",
       "      <td>0</td>\n",
       "      <td>0</td>\n",
       "      <td>1812.0</td>\n",
       "      <td>3</td>\n",
       "      <td>0</td>\n",
       "    </tr>\n",
       "    <tr>\n",
       "      <th>4</th>\n",
       "      <td>ee6a295187ba21</td>\n",
       "      <td>6604ce20a1d230</td>\n",
       "      <td>40754a93016066</td>\n",
       "      <td>0</td>\n",
       "      <td>4</td>\n",
       "      <td>330.20</td>\n",
       "      <td>1</td>\n",
       "      <td>2</td>\n",
       "      <td>1</td>\n",
       "      <td>7</td>\n",
       "      <td>0</td>\n",
       "      <td>3</td>\n",
       "      <td>1</td>\n",
       "      <td>60.06</td>\n",
       "      <td>1326</td>\n",
       "      <td>squad-fpp</td>\n",
       "      <td>28</td>\n",
       "      <td>27</td>\n",
       "      <td>1480</td>\n",
       "      <td>1</td>\n",
       "      <td>0.0</td>\n",
       "      <td>0</td>\n",
       "      <td>0.0</td>\n",
       "      <td>0</td>\n",
       "      <td>0</td>\n",
       "      <td>2963.0</td>\n",
       "      <td>4</td>\n",
       "      <td>0</td>\n",
       "    </tr>\n",
       "  </tbody>\n",
       "</table>\n",
       "</div>"
      ],
      "text/plain": [
       "               Id         groupId         matchId  assists  boosts  \\\n",
       "0  9329eb41e215eb  676b23c24e70d6  45b576ab7daa7f        0       0   \n",
       "1  639bd0dcd7bda8  430933124148dd  42a9a0b906c928        0       4   \n",
       "2  63d5c8ef8dfe91  0b45f5db20ba99  87e7e4477a048e        1       0   \n",
       "3  cf5b81422591d1  b7497dbdc77f4a  1b9a94f1af67f1        0       0   \n",
       "4  ee6a295187ba21  6604ce20a1d230  40754a93016066        0       4   \n",
       "\n",
       "   damageDealt  DBNOs  headshotKills  heals  killPlace  killPoints  kills  \\\n",
       "0        51.46      0              0      0         73           0      0   \n",
       "1       179.10      0              0      2         11           0      2   \n",
       "2        23.40      0              0      4         49           0      0   \n",
       "3        65.52      0              0      0         54           0      0   \n",
       "4       330.20      1              2      1          7           0      3   \n",
       "\n",
       "   killStreaks  longestKill  matchDuration  matchType  maxPlace  numGroups  \\\n",
       "0            0         0.00           1884  squad-fpp        28         28   \n",
       "1            1       361.90           1811    duo-fpp        48         47   \n",
       "2            0         0.00           1793  squad-fpp        28         27   \n",
       "3            0         0.00           1834    duo-fpp        45         44   \n",
       "4            1        60.06           1326  squad-fpp        28         27   \n",
       "\n",
       "   rankPoints  revives  rideDistance  roadKills  swimDistance  teamKills  \\\n",
       "0        1500        0           0.0          0           0.0          0   \n",
       "1        1503        2        4669.0          0           0.0          0   \n",
       "2        1565        0           0.0          0           0.0          0   \n",
       "3        1465        0           0.0          0           0.0          0   \n",
       "4        1480        1           0.0          0           0.0          0   \n",
       "\n",
       "   vehicleDestroys  walkDistance  weaponsAcquired  winPoints  \n",
       "0                0         588.0                1          0  \n",
       "1                0        2017.0                6          0  \n",
       "2                0         787.8                4          0  \n",
       "3                0        1812.0                3          0  \n",
       "4                0        2963.0                4          0  "
      ]
     },
     "execution_count": 5,
     "metadata": {},
     "output_type": "execute_result"
    }
   ],
   "source": [
    "df_test.head()"
   ]
  },
  {
   "cell_type": "code",
   "execution_count": 6,
   "id": "453d960d",
   "metadata": {
    "execution": {
     "iopub.execute_input": "2022-04-06T18:53:11.711166Z",
     "iopub.status.busy": "2022-04-06T18:53:11.710546Z",
     "iopub.status.idle": "2022-04-06T18:53:11.730373Z",
     "shell.execute_reply": "2022-04-06T18:53:11.730899Z",
     "shell.execute_reply.started": "2022-04-06T18:09:40.112207Z"
    },
    "papermill": {
     "duration": 0.11447,
     "end_time": "2022-04-06T18:53:11.731066",
     "exception": false,
     "start_time": "2022-04-06T18:53:11.616596",
     "status": "completed"
    },
    "tags": []
   },
   "outputs": [
    {
     "data": {
      "text/html": [
       "<div>\n",
       "<style scoped>\n",
       "    .dataframe tbody tr th:only-of-type {\n",
       "        vertical-align: middle;\n",
       "    }\n",
       "\n",
       "    .dataframe tbody tr th {\n",
       "        vertical-align: top;\n",
       "    }\n",
       "\n",
       "    .dataframe thead th {\n",
       "        text-align: right;\n",
       "    }\n",
       "</style>\n",
       "<table border=\"1\" class=\"dataframe\">\n",
       "  <thead>\n",
       "    <tr style=\"text-align: right;\">\n",
       "      <th></th>\n",
       "      <th>Id</th>\n",
       "      <th>groupId</th>\n",
       "      <th>matchId</th>\n",
       "      <th>assists</th>\n",
       "      <th>boosts</th>\n",
       "      <th>damageDealt</th>\n",
       "      <th>DBNOs</th>\n",
       "      <th>headshotKills</th>\n",
       "      <th>heals</th>\n",
       "      <th>killPlace</th>\n",
       "      <th>killPoints</th>\n",
       "      <th>kills</th>\n",
       "      <th>killStreaks</th>\n",
       "      <th>longestKill</th>\n",
       "      <th>matchDuration</th>\n",
       "      <th>matchType</th>\n",
       "      <th>maxPlace</th>\n",
       "      <th>numGroups</th>\n",
       "      <th>rankPoints</th>\n",
       "      <th>revives</th>\n",
       "      <th>rideDistance</th>\n",
       "      <th>roadKills</th>\n",
       "      <th>swimDistance</th>\n",
       "      <th>teamKills</th>\n",
       "      <th>vehicleDestroys</th>\n",
       "      <th>walkDistance</th>\n",
       "      <th>weaponsAcquired</th>\n",
       "      <th>winPoints</th>\n",
       "      <th>winPlacePerc</th>\n",
       "    </tr>\n",
       "  </thead>\n",
       "  <tbody>\n",
       "    <tr>\n",
       "      <th>0</th>\n",
       "      <td>7f96b2f878858a</td>\n",
       "      <td>4d4b580de459be</td>\n",
       "      <td>a10357fd1a4a91</td>\n",
       "      <td>0</td>\n",
       "      <td>0</td>\n",
       "      <td>0.00</td>\n",
       "      <td>0</td>\n",
       "      <td>0</td>\n",
       "      <td>0</td>\n",
       "      <td>60</td>\n",
       "      <td>1241</td>\n",
       "      <td>0</td>\n",
       "      <td>0</td>\n",
       "      <td>0.00</td>\n",
       "      <td>1306</td>\n",
       "      <td>squad-fpp</td>\n",
       "      <td>28</td>\n",
       "      <td>26</td>\n",
       "      <td>-1</td>\n",
       "      <td>0</td>\n",
       "      <td>0.0000</td>\n",
       "      <td>0</td>\n",
       "      <td>0.00</td>\n",
       "      <td>0</td>\n",
       "      <td>0</td>\n",
       "      <td>244.80</td>\n",
       "      <td>1</td>\n",
       "      <td>1466</td>\n",
       "      <td>0.4444</td>\n",
       "    </tr>\n",
       "    <tr>\n",
       "      <th>1</th>\n",
       "      <td>eef90569b9d03c</td>\n",
       "      <td>684d5656442f9e</td>\n",
       "      <td>aeb375fc57110c</td>\n",
       "      <td>0</td>\n",
       "      <td>0</td>\n",
       "      <td>91.47</td>\n",
       "      <td>0</td>\n",
       "      <td>0</td>\n",
       "      <td>0</td>\n",
       "      <td>57</td>\n",
       "      <td>0</td>\n",
       "      <td>0</td>\n",
       "      <td>0</td>\n",
       "      <td>0.00</td>\n",
       "      <td>1777</td>\n",
       "      <td>squad-fpp</td>\n",
       "      <td>26</td>\n",
       "      <td>25</td>\n",
       "      <td>1484</td>\n",
       "      <td>0</td>\n",
       "      <td>0.0045</td>\n",
       "      <td>0</td>\n",
       "      <td>11.04</td>\n",
       "      <td>0</td>\n",
       "      <td>0</td>\n",
       "      <td>1434.00</td>\n",
       "      <td>5</td>\n",
       "      <td>0</td>\n",
       "      <td>0.6400</td>\n",
       "    </tr>\n",
       "    <tr>\n",
       "      <th>2</th>\n",
       "      <td>1eaf90ac73de72</td>\n",
       "      <td>6a4a42c3245a74</td>\n",
       "      <td>110163d8bb94ae</td>\n",
       "      <td>1</td>\n",
       "      <td>0</td>\n",
       "      <td>68.00</td>\n",
       "      <td>0</td>\n",
       "      <td>0</td>\n",
       "      <td>0</td>\n",
       "      <td>47</td>\n",
       "      <td>0</td>\n",
       "      <td>0</td>\n",
       "      <td>0</td>\n",
       "      <td>0.00</td>\n",
       "      <td>1318</td>\n",
       "      <td>duo</td>\n",
       "      <td>50</td>\n",
       "      <td>47</td>\n",
       "      <td>1491</td>\n",
       "      <td>0</td>\n",
       "      <td>0.0000</td>\n",
       "      <td>0</td>\n",
       "      <td>0.00</td>\n",
       "      <td>0</td>\n",
       "      <td>0</td>\n",
       "      <td>161.80</td>\n",
       "      <td>2</td>\n",
       "      <td>0</td>\n",
       "      <td>0.7755</td>\n",
       "    </tr>\n",
       "    <tr>\n",
       "      <th>3</th>\n",
       "      <td>4616d365dd2853</td>\n",
       "      <td>a930a9c79cd721</td>\n",
       "      <td>f1f1f4ef412d7e</td>\n",
       "      <td>0</td>\n",
       "      <td>0</td>\n",
       "      <td>32.90</td>\n",
       "      <td>0</td>\n",
       "      <td>0</td>\n",
       "      <td>0</td>\n",
       "      <td>75</td>\n",
       "      <td>0</td>\n",
       "      <td>0</td>\n",
       "      <td>0</td>\n",
       "      <td>0.00</td>\n",
       "      <td>1436</td>\n",
       "      <td>squad-fpp</td>\n",
       "      <td>31</td>\n",
       "      <td>30</td>\n",
       "      <td>1408</td>\n",
       "      <td>0</td>\n",
       "      <td>0.0000</td>\n",
       "      <td>0</td>\n",
       "      <td>0.00</td>\n",
       "      <td>0</td>\n",
       "      <td>0</td>\n",
       "      <td>202.70</td>\n",
       "      <td>3</td>\n",
       "      <td>0</td>\n",
       "      <td>0.1667</td>\n",
       "    </tr>\n",
       "    <tr>\n",
       "      <th>4</th>\n",
       "      <td>315c96c26c9aac</td>\n",
       "      <td>de04010b3458dd</td>\n",
       "      <td>6dc8ff871e21e6</td>\n",
       "      <td>0</td>\n",
       "      <td>0</td>\n",
       "      <td>100.00</td>\n",
       "      <td>0</td>\n",
       "      <td>0</td>\n",
       "      <td>0</td>\n",
       "      <td>45</td>\n",
       "      <td>0</td>\n",
       "      <td>1</td>\n",
       "      <td>1</td>\n",
       "      <td>58.53</td>\n",
       "      <td>1424</td>\n",
       "      <td>solo-fpp</td>\n",
       "      <td>97</td>\n",
       "      <td>95</td>\n",
       "      <td>1560</td>\n",
       "      <td>0</td>\n",
       "      <td>0.0000</td>\n",
       "      <td>0</td>\n",
       "      <td>0.00</td>\n",
       "      <td>0</td>\n",
       "      <td>0</td>\n",
       "      <td>49.75</td>\n",
       "      <td>2</td>\n",
       "      <td>0</td>\n",
       "      <td>0.1875</td>\n",
       "    </tr>\n",
       "  </tbody>\n",
       "</table>\n",
       "</div>"
      ],
      "text/plain": [
       "               Id         groupId         matchId  assists  boosts  \\\n",
       "0  7f96b2f878858a  4d4b580de459be  a10357fd1a4a91        0       0   \n",
       "1  eef90569b9d03c  684d5656442f9e  aeb375fc57110c        0       0   \n",
       "2  1eaf90ac73de72  6a4a42c3245a74  110163d8bb94ae        1       0   \n",
       "3  4616d365dd2853  a930a9c79cd721  f1f1f4ef412d7e        0       0   \n",
       "4  315c96c26c9aac  de04010b3458dd  6dc8ff871e21e6        0       0   \n",
       "\n",
       "   damageDealt  DBNOs  headshotKills  heals  killPlace  killPoints  kills  \\\n",
       "0         0.00      0              0      0         60        1241      0   \n",
       "1        91.47      0              0      0         57           0      0   \n",
       "2        68.00      0              0      0         47           0      0   \n",
       "3        32.90      0              0      0         75           0      0   \n",
       "4       100.00      0              0      0         45           0      1   \n",
       "\n",
       "   killStreaks  longestKill  matchDuration  matchType  maxPlace  numGroups  \\\n",
       "0            0         0.00           1306  squad-fpp        28         26   \n",
       "1            0         0.00           1777  squad-fpp        26         25   \n",
       "2            0         0.00           1318        duo        50         47   \n",
       "3            0         0.00           1436  squad-fpp        31         30   \n",
       "4            1        58.53           1424   solo-fpp        97         95   \n",
       "\n",
       "   rankPoints  revives  rideDistance  roadKills  swimDistance  teamKills  \\\n",
       "0          -1        0        0.0000          0          0.00          0   \n",
       "1        1484        0        0.0045          0         11.04          0   \n",
       "2        1491        0        0.0000          0          0.00          0   \n",
       "3        1408        0        0.0000          0          0.00          0   \n",
       "4        1560        0        0.0000          0          0.00          0   \n",
       "\n",
       "   vehicleDestroys  walkDistance  weaponsAcquired  winPoints  winPlacePerc  \n",
       "0                0        244.80                1       1466        0.4444  \n",
       "1                0       1434.00                5          0        0.6400  \n",
       "2                0        161.80                2          0        0.7755  \n",
       "3                0        202.70                3          0        0.1667  \n",
       "4                0         49.75                2          0        0.1875  "
      ]
     },
     "execution_count": 6,
     "metadata": {},
     "output_type": "execute_result"
    }
   ],
   "source": [
    "df.head()"
   ]
  },
  {
   "cell_type": "code",
   "execution_count": 7,
   "id": "eabf5903",
   "metadata": {
    "execution": {
     "iopub.execute_input": "2022-04-06T18:53:11.924456Z",
     "iopub.status.busy": "2022-04-06T18:53:11.923709Z",
     "iopub.status.idle": "2022-04-06T18:53:14.590755Z",
     "shell.execute_reply": "2022-04-06T18:53:14.591334Z",
     "shell.execute_reply.started": "2022-04-06T18:09:40.145018Z"
    },
    "papermill": {
     "duration": 2.765942,
     "end_time": "2022-04-06T18:53:14.591511",
     "exception": false,
     "start_time": "2022-04-06T18:53:11.825569",
     "status": "completed"
    },
    "tags": []
   },
   "outputs": [
    {
     "data": {
      "text/html": [
       "<div>\n",
       "<style scoped>\n",
       "    .dataframe tbody tr th:only-of-type {\n",
       "        vertical-align: middle;\n",
       "    }\n",
       "\n",
       "    .dataframe tbody tr th {\n",
       "        vertical-align: top;\n",
       "    }\n",
       "\n",
       "    .dataframe thead th {\n",
       "        text-align: right;\n",
       "    }\n",
       "</style>\n",
       "<table border=\"1\" class=\"dataframe\">\n",
       "  <thead>\n",
       "    <tr style=\"text-align: right;\">\n",
       "      <th></th>\n",
       "      <th>assists</th>\n",
       "      <th>boosts</th>\n",
       "      <th>damageDealt</th>\n",
       "      <th>DBNOs</th>\n",
       "      <th>headshotKills</th>\n",
       "      <th>heals</th>\n",
       "      <th>killPlace</th>\n",
       "      <th>killPoints</th>\n",
       "      <th>kills</th>\n",
       "      <th>killStreaks</th>\n",
       "      <th>longestKill</th>\n",
       "      <th>matchDuration</th>\n",
       "      <th>maxPlace</th>\n",
       "      <th>numGroups</th>\n",
       "      <th>rankPoints</th>\n",
       "      <th>revives</th>\n",
       "      <th>rideDistance</th>\n",
       "      <th>roadKills</th>\n",
       "      <th>swimDistance</th>\n",
       "      <th>teamKills</th>\n",
       "      <th>vehicleDestroys</th>\n",
       "      <th>walkDistance</th>\n",
       "      <th>weaponsAcquired</th>\n",
       "      <th>winPoints</th>\n",
       "      <th>winPlacePerc</th>\n",
       "    </tr>\n",
       "  </thead>\n",
       "  <tbody>\n",
       "    <tr>\n",
       "      <th>count</th>\n",
       "      <td>4.446966e+06</td>\n",
       "      <td>4.446966e+06</td>\n",
       "      <td>4.446966e+06</td>\n",
       "      <td>4.446966e+06</td>\n",
       "      <td>4.446966e+06</td>\n",
       "      <td>4.446966e+06</td>\n",
       "      <td>4.446966e+06</td>\n",
       "      <td>4.446966e+06</td>\n",
       "      <td>4.446966e+06</td>\n",
       "      <td>4.446966e+06</td>\n",
       "      <td>4.446966e+06</td>\n",
       "      <td>4.446966e+06</td>\n",
       "      <td>4.446966e+06</td>\n",
       "      <td>4.446966e+06</td>\n",
       "      <td>4.446966e+06</td>\n",
       "      <td>4.446966e+06</td>\n",
       "      <td>4.446966e+06</td>\n",
       "      <td>4.446966e+06</td>\n",
       "      <td>4.446966e+06</td>\n",
       "      <td>4.446966e+06</td>\n",
       "      <td>4.446966e+06</td>\n",
       "      <td>4.446966e+06</td>\n",
       "      <td>4.446966e+06</td>\n",
       "      <td>4.446966e+06</td>\n",
       "      <td>4.446965e+06</td>\n",
       "    </tr>\n",
       "    <tr>\n",
       "      <th>mean</th>\n",
       "      <td>2.338149e-01</td>\n",
       "      <td>1.106908e+00</td>\n",
       "      <td>1.307171e+02</td>\n",
       "      <td>6.578755e-01</td>\n",
       "      <td>2.268196e-01</td>\n",
       "      <td>1.370147e+00</td>\n",
       "      <td>4.759935e+01</td>\n",
       "      <td>5.050060e+02</td>\n",
       "      <td>9.247833e-01</td>\n",
       "      <td>5.439551e-01</td>\n",
       "      <td>2.299759e+01</td>\n",
       "      <td>1.579506e+03</td>\n",
       "      <td>4.450467e+01</td>\n",
       "      <td>4.300759e+01</td>\n",
       "      <td>8.920105e+02</td>\n",
       "      <td>1.646590e-01</td>\n",
       "      <td>6.061157e+02</td>\n",
       "      <td>3.496091e-03</td>\n",
       "      <td>4.509322e+00</td>\n",
       "      <td>2.386841e-02</td>\n",
       "      <td>7.918208e-03</td>\n",
       "      <td>1.154218e+03</td>\n",
       "      <td>3.660488e+00</td>\n",
       "      <td>6.064601e+02</td>\n",
       "      <td>4.728216e-01</td>\n",
       "    </tr>\n",
       "    <tr>\n",
       "      <th>std</th>\n",
       "      <td>5.885731e-01</td>\n",
       "      <td>1.715794e+00</td>\n",
       "      <td>1.707806e+02</td>\n",
       "      <td>1.145743e+00</td>\n",
       "      <td>6.021553e-01</td>\n",
       "      <td>2.679982e+00</td>\n",
       "      <td>2.746294e+01</td>\n",
       "      <td>6.275049e+02</td>\n",
       "      <td>1.558445e+00</td>\n",
       "      <td>7.109721e-01</td>\n",
       "      <td>5.097262e+01</td>\n",
       "      <td>2.587399e+02</td>\n",
       "      <td>2.382811e+01</td>\n",
       "      <td>2.328949e+01</td>\n",
       "      <td>7.366478e+02</td>\n",
       "      <td>4.721671e-01</td>\n",
       "      <td>1.498344e+03</td>\n",
       "      <td>7.337297e-02</td>\n",
       "      <td>3.050220e+01</td>\n",
       "      <td>1.673935e-01</td>\n",
       "      <td>9.261157e-02</td>\n",
       "      <td>1.183497e+03</td>\n",
       "      <td>2.456544e+00</td>\n",
       "      <td>7.397004e+02</td>\n",
       "      <td>3.074050e-01</td>\n",
       "    </tr>\n",
       "    <tr>\n",
       "      <th>min</th>\n",
       "      <td>0.000000e+00</td>\n",
       "      <td>0.000000e+00</td>\n",
       "      <td>0.000000e+00</td>\n",
       "      <td>0.000000e+00</td>\n",
       "      <td>0.000000e+00</td>\n",
       "      <td>0.000000e+00</td>\n",
       "      <td>1.000000e+00</td>\n",
       "      <td>0.000000e+00</td>\n",
       "      <td>0.000000e+00</td>\n",
       "      <td>0.000000e+00</td>\n",
       "      <td>0.000000e+00</td>\n",
       "      <td>9.000000e+00</td>\n",
       "      <td>1.000000e+00</td>\n",
       "      <td>1.000000e+00</td>\n",
       "      <td>-1.000000e+00</td>\n",
       "      <td>0.000000e+00</td>\n",
       "      <td>0.000000e+00</td>\n",
       "      <td>0.000000e+00</td>\n",
       "      <td>0.000000e+00</td>\n",
       "      <td>0.000000e+00</td>\n",
       "      <td>0.000000e+00</td>\n",
       "      <td>0.000000e+00</td>\n",
       "      <td>0.000000e+00</td>\n",
       "      <td>0.000000e+00</td>\n",
       "      <td>0.000000e+00</td>\n",
       "    </tr>\n",
       "    <tr>\n",
       "      <th>25%</th>\n",
       "      <td>0.000000e+00</td>\n",
       "      <td>0.000000e+00</td>\n",
       "      <td>0.000000e+00</td>\n",
       "      <td>0.000000e+00</td>\n",
       "      <td>0.000000e+00</td>\n",
       "      <td>0.000000e+00</td>\n",
       "      <td>2.400000e+01</td>\n",
       "      <td>0.000000e+00</td>\n",
       "      <td>0.000000e+00</td>\n",
       "      <td>0.000000e+00</td>\n",
       "      <td>0.000000e+00</td>\n",
       "      <td>1.367000e+03</td>\n",
       "      <td>2.800000e+01</td>\n",
       "      <td>2.700000e+01</td>\n",
       "      <td>-1.000000e+00</td>\n",
       "      <td>0.000000e+00</td>\n",
       "      <td>0.000000e+00</td>\n",
       "      <td>0.000000e+00</td>\n",
       "      <td>0.000000e+00</td>\n",
       "      <td>0.000000e+00</td>\n",
       "      <td>0.000000e+00</td>\n",
       "      <td>1.551000e+02</td>\n",
       "      <td>2.000000e+00</td>\n",
       "      <td>0.000000e+00</td>\n",
       "      <td>2.000000e-01</td>\n",
       "    </tr>\n",
       "    <tr>\n",
       "      <th>50%</th>\n",
       "      <td>0.000000e+00</td>\n",
       "      <td>0.000000e+00</td>\n",
       "      <td>8.424000e+01</td>\n",
       "      <td>0.000000e+00</td>\n",
       "      <td>0.000000e+00</td>\n",
       "      <td>0.000000e+00</td>\n",
       "      <td>4.700000e+01</td>\n",
       "      <td>0.000000e+00</td>\n",
       "      <td>0.000000e+00</td>\n",
       "      <td>0.000000e+00</td>\n",
       "      <td>0.000000e+00</td>\n",
       "      <td>1.438000e+03</td>\n",
       "      <td>3.000000e+01</td>\n",
       "      <td>3.000000e+01</td>\n",
       "      <td>1.443000e+03</td>\n",
       "      <td>0.000000e+00</td>\n",
       "      <td>0.000000e+00</td>\n",
       "      <td>0.000000e+00</td>\n",
       "      <td>0.000000e+00</td>\n",
       "      <td>0.000000e+00</td>\n",
       "      <td>0.000000e+00</td>\n",
       "      <td>6.856000e+02</td>\n",
       "      <td>3.000000e+00</td>\n",
       "      <td>0.000000e+00</td>\n",
       "      <td>4.583000e-01</td>\n",
       "    </tr>\n",
       "    <tr>\n",
       "      <th>75%</th>\n",
       "      <td>0.000000e+00</td>\n",
       "      <td>2.000000e+00</td>\n",
       "      <td>1.860000e+02</td>\n",
       "      <td>1.000000e+00</td>\n",
       "      <td>0.000000e+00</td>\n",
       "      <td>2.000000e+00</td>\n",
       "      <td>7.100000e+01</td>\n",
       "      <td>1.172000e+03</td>\n",
       "      <td>1.000000e+00</td>\n",
       "      <td>1.000000e+00</td>\n",
       "      <td>2.132000e+01</td>\n",
       "      <td>1.851000e+03</td>\n",
       "      <td>4.900000e+01</td>\n",
       "      <td>4.700000e+01</td>\n",
       "      <td>1.500000e+03</td>\n",
       "      <td>0.000000e+00</td>\n",
       "      <td>1.909750e-01</td>\n",
       "      <td>0.000000e+00</td>\n",
       "      <td>0.000000e+00</td>\n",
       "      <td>0.000000e+00</td>\n",
       "      <td>0.000000e+00</td>\n",
       "      <td>1.976000e+03</td>\n",
       "      <td>5.000000e+00</td>\n",
       "      <td>1.495000e+03</td>\n",
       "      <td>7.407000e-01</td>\n",
       "    </tr>\n",
       "    <tr>\n",
       "      <th>max</th>\n",
       "      <td>2.200000e+01</td>\n",
       "      <td>3.300000e+01</td>\n",
       "      <td>6.616000e+03</td>\n",
       "      <td>5.300000e+01</td>\n",
       "      <td>6.400000e+01</td>\n",
       "      <td>8.000000e+01</td>\n",
       "      <td>1.010000e+02</td>\n",
       "      <td>2.170000e+03</td>\n",
       "      <td>7.200000e+01</td>\n",
       "      <td>2.000000e+01</td>\n",
       "      <td>1.094000e+03</td>\n",
       "      <td>2.237000e+03</td>\n",
       "      <td>1.000000e+02</td>\n",
       "      <td>1.000000e+02</td>\n",
       "      <td>5.910000e+03</td>\n",
       "      <td>3.900000e+01</td>\n",
       "      <td>4.071000e+04</td>\n",
       "      <td>1.800000e+01</td>\n",
       "      <td>3.823000e+03</td>\n",
       "      <td>1.200000e+01</td>\n",
       "      <td>5.000000e+00</td>\n",
       "      <td>2.578000e+04</td>\n",
       "      <td>2.360000e+02</td>\n",
       "      <td>2.013000e+03</td>\n",
       "      <td>1.000000e+00</td>\n",
       "    </tr>\n",
       "  </tbody>\n",
       "</table>\n",
       "</div>"
      ],
      "text/plain": [
       "            assists        boosts   damageDealt         DBNOs  headshotKills  \\\n",
       "count  4.446966e+06  4.446966e+06  4.446966e+06  4.446966e+06   4.446966e+06   \n",
       "mean   2.338149e-01  1.106908e+00  1.307171e+02  6.578755e-01   2.268196e-01   \n",
       "std    5.885731e-01  1.715794e+00  1.707806e+02  1.145743e+00   6.021553e-01   \n",
       "min    0.000000e+00  0.000000e+00  0.000000e+00  0.000000e+00   0.000000e+00   \n",
       "25%    0.000000e+00  0.000000e+00  0.000000e+00  0.000000e+00   0.000000e+00   \n",
       "50%    0.000000e+00  0.000000e+00  8.424000e+01  0.000000e+00   0.000000e+00   \n",
       "75%    0.000000e+00  2.000000e+00  1.860000e+02  1.000000e+00   0.000000e+00   \n",
       "max    2.200000e+01  3.300000e+01  6.616000e+03  5.300000e+01   6.400000e+01   \n",
       "\n",
       "              heals     killPlace    killPoints         kills   killStreaks  \\\n",
       "count  4.446966e+06  4.446966e+06  4.446966e+06  4.446966e+06  4.446966e+06   \n",
       "mean   1.370147e+00  4.759935e+01  5.050060e+02  9.247833e-01  5.439551e-01   \n",
       "std    2.679982e+00  2.746294e+01  6.275049e+02  1.558445e+00  7.109721e-01   \n",
       "min    0.000000e+00  1.000000e+00  0.000000e+00  0.000000e+00  0.000000e+00   \n",
       "25%    0.000000e+00  2.400000e+01  0.000000e+00  0.000000e+00  0.000000e+00   \n",
       "50%    0.000000e+00  4.700000e+01  0.000000e+00  0.000000e+00  0.000000e+00   \n",
       "75%    2.000000e+00  7.100000e+01  1.172000e+03  1.000000e+00  1.000000e+00   \n",
       "max    8.000000e+01  1.010000e+02  2.170000e+03  7.200000e+01  2.000000e+01   \n",
       "\n",
       "        longestKill  matchDuration      maxPlace     numGroups    rankPoints  \\\n",
       "count  4.446966e+06   4.446966e+06  4.446966e+06  4.446966e+06  4.446966e+06   \n",
       "mean   2.299759e+01   1.579506e+03  4.450467e+01  4.300759e+01  8.920105e+02   \n",
       "std    5.097262e+01   2.587399e+02  2.382811e+01  2.328949e+01  7.366478e+02   \n",
       "min    0.000000e+00   9.000000e+00  1.000000e+00  1.000000e+00 -1.000000e+00   \n",
       "25%    0.000000e+00   1.367000e+03  2.800000e+01  2.700000e+01 -1.000000e+00   \n",
       "50%    0.000000e+00   1.438000e+03  3.000000e+01  3.000000e+01  1.443000e+03   \n",
       "75%    2.132000e+01   1.851000e+03  4.900000e+01  4.700000e+01  1.500000e+03   \n",
       "max    1.094000e+03   2.237000e+03  1.000000e+02  1.000000e+02  5.910000e+03   \n",
       "\n",
       "            revives  rideDistance     roadKills  swimDistance     teamKills  \\\n",
       "count  4.446966e+06  4.446966e+06  4.446966e+06  4.446966e+06  4.446966e+06   \n",
       "mean   1.646590e-01  6.061157e+02  3.496091e-03  4.509322e+00  2.386841e-02   \n",
       "std    4.721671e-01  1.498344e+03  7.337297e-02  3.050220e+01  1.673935e-01   \n",
       "min    0.000000e+00  0.000000e+00  0.000000e+00  0.000000e+00  0.000000e+00   \n",
       "25%    0.000000e+00  0.000000e+00  0.000000e+00  0.000000e+00  0.000000e+00   \n",
       "50%    0.000000e+00  0.000000e+00  0.000000e+00  0.000000e+00  0.000000e+00   \n",
       "75%    0.000000e+00  1.909750e-01  0.000000e+00  0.000000e+00  0.000000e+00   \n",
       "max    3.900000e+01  4.071000e+04  1.800000e+01  3.823000e+03  1.200000e+01   \n",
       "\n",
       "       vehicleDestroys  walkDistance  weaponsAcquired     winPoints  \\\n",
       "count     4.446966e+06  4.446966e+06     4.446966e+06  4.446966e+06   \n",
       "mean      7.918208e-03  1.154218e+03     3.660488e+00  6.064601e+02   \n",
       "std       9.261157e-02  1.183497e+03     2.456544e+00  7.397004e+02   \n",
       "min       0.000000e+00  0.000000e+00     0.000000e+00  0.000000e+00   \n",
       "25%       0.000000e+00  1.551000e+02     2.000000e+00  0.000000e+00   \n",
       "50%       0.000000e+00  6.856000e+02     3.000000e+00  0.000000e+00   \n",
       "75%       0.000000e+00  1.976000e+03     5.000000e+00  1.495000e+03   \n",
       "max       5.000000e+00  2.578000e+04     2.360000e+02  2.013000e+03   \n",
       "\n",
       "       winPlacePerc  \n",
       "count  4.446965e+06  \n",
       "mean   4.728216e-01  \n",
       "std    3.074050e-01  \n",
       "min    0.000000e+00  \n",
       "25%    2.000000e-01  \n",
       "50%    4.583000e-01  \n",
       "75%    7.407000e-01  \n",
       "max    1.000000e+00  "
      ]
     },
     "execution_count": 7,
     "metadata": {},
     "output_type": "execute_result"
    }
   ],
   "source": [
    "df.describe()"
   ]
  },
  {
   "cell_type": "code",
   "execution_count": 8,
   "id": "028272c4",
   "metadata": {
    "execution": {
     "iopub.execute_input": "2022-04-06T18:53:14.782420Z",
     "iopub.status.busy": "2022-04-06T18:53:14.781702Z",
     "iopub.status.idle": "2022-04-06T18:53:14.794849Z",
     "shell.execute_reply": "2022-04-06T18:53:14.795480Z",
     "shell.execute_reply.started": "2022-04-06T18:09:43.415979Z"
    },
    "papermill": {
     "duration": 0.110733,
     "end_time": "2022-04-06T18:53:14.795648",
     "exception": false,
     "start_time": "2022-04-06T18:53:14.684915",
     "status": "completed"
    },
    "tags": []
   },
   "outputs": [
    {
     "name": "stdout",
     "output_type": "stream",
     "text": [
      "<class 'pandas.core.frame.DataFrame'>\n",
      "RangeIndex: 4446966 entries, 0 to 4446965\n",
      "Data columns (total 29 columns):\n",
      " #   Column           Dtype  \n",
      "---  ------           -----  \n",
      " 0   Id               object \n",
      " 1   groupId          object \n",
      " 2   matchId          object \n",
      " 3   assists          int64  \n",
      " 4   boosts           int64  \n",
      " 5   damageDealt      float64\n",
      " 6   DBNOs            int64  \n",
      " 7   headshotKills    int64  \n",
      " 8   heals            int64  \n",
      " 9   killPlace        int64  \n",
      " 10  killPoints       int64  \n",
      " 11  kills            int64  \n",
      " 12  killStreaks      int64  \n",
      " 13  longestKill      float64\n",
      " 14  matchDuration    int64  \n",
      " 15  matchType        object \n",
      " 16  maxPlace         int64  \n",
      " 17  numGroups        int64  \n",
      " 18  rankPoints       int64  \n",
      " 19  revives          int64  \n",
      " 20  rideDistance     float64\n",
      " 21  roadKills        int64  \n",
      " 22  swimDistance     float64\n",
      " 23  teamKills        int64  \n",
      " 24  vehicleDestroys  int64  \n",
      " 25  walkDistance     float64\n",
      " 26  weaponsAcquired  int64  \n",
      " 27  winPoints        int64  \n",
      " 28  winPlacePerc     float64\n",
      "dtypes: float64(6), int64(19), object(4)\n",
      "memory usage: 983.9+ MB\n"
     ]
    }
   ],
   "source": [
    "df.info()"
   ]
  },
  {
   "cell_type": "markdown",
   "id": "967312df",
   "metadata": {
    "papermill": {
     "duration": 0.095547,
     "end_time": "2022-04-06T18:53:14.987447",
     "exception": false,
     "start_time": "2022-04-06T18:53:14.891900",
     "status": "completed"
    },
    "tags": []
   },
   "source": [
    "44 lakhs rows & \n",
    "\n",
    "so, we have 30 columns and over goal is predicting `winPlacePerc`\n",
    "1) univerent analysis for one variable"
   ]
  },
  {
   "cell_type": "markdown",
   "id": "5cf197b3",
   "metadata": {
    "papermill": {
     "duration": 0.097941,
     "end_time": "2022-04-06T18:53:15.182174",
     "exception": false,
     "start_time": "2022-04-06T18:53:15.084233",
     "status": "completed"
    },
    "tags": []
   },
   "source": [
    "## Univarient Analysis"
   ]
  },
  {
   "cell_type": "code",
   "execution_count": 9,
   "id": "7fe5af59",
   "metadata": {
    "execution": {
     "iopub.execute_input": "2022-04-06T18:53:15.387310Z",
     "iopub.status.busy": "2022-04-06T18:53:15.386577Z",
     "iopub.status.idle": "2022-04-06T18:53:15.389399Z",
     "shell.execute_reply": "2022-04-06T18:53:15.389917Z",
     "shell.execute_reply.started": "2022-04-06T03:38:59.04871Z"
    },
    "papermill": {
     "duration": 0.107275,
     "end_time": "2022-04-06T18:53:15.390117",
     "exception": false,
     "start_time": "2022-04-06T18:53:15.282842",
     "status": "completed"
    },
    "tags": []
   },
   "outputs": [
    {
     "data": {
      "text/plain": [
       "Index(['Id', 'groupId', 'matchId', 'assists', 'boosts', 'damageDealt', 'DBNOs',\n",
       "       'headshotKills', 'heals', 'killPlace', 'killPoints', 'kills',\n",
       "       'killStreaks', 'longestKill', 'matchDuration', 'matchType', 'maxPlace',\n",
       "       'numGroups', 'rankPoints', 'revives', 'rideDistance', 'roadKills',\n",
       "       'swimDistance', 'teamKills', 'vehicleDestroys', 'walkDistance',\n",
       "       'weaponsAcquired', 'winPoints', 'winPlacePerc'],\n",
       "      dtype='object')"
      ]
     },
     "execution_count": 9,
     "metadata": {},
     "output_type": "execute_result"
    }
   ],
   "source": [
    "df.columns"
   ]
  },
  {
   "cell_type": "code",
   "execution_count": 10,
   "id": "06a437de",
   "metadata": {
    "execution": {
     "iopub.execute_input": "2022-04-06T18:53:15.590797Z",
     "iopub.status.busy": "2022-04-06T18:53:15.590079Z",
     "iopub.status.idle": "2022-04-06T18:53:15.612629Z",
     "shell.execute_reply": "2022-04-06T18:53:15.613331Z",
     "shell.execute_reply.started": "2022-04-06T03:40:02.134269Z"
    },
    "papermill": {
     "duration": 0.125628,
     "end_time": "2022-04-06T18:53:15.613588",
     "exception": false,
     "start_time": "2022-04-06T18:53:15.487960",
     "status": "completed"
    },
    "tags": []
   },
   "outputs": [
    {
     "data": {
      "text/html": [
       "<div>\n",
       "<style scoped>\n",
       "    .dataframe tbody tr th:only-of-type {\n",
       "        vertical-align: middle;\n",
       "    }\n",
       "\n",
       "    .dataframe tbody tr th {\n",
       "        vertical-align: top;\n",
       "    }\n",
       "\n",
       "    .dataframe thead th {\n",
       "        text-align: right;\n",
       "    }\n",
       "</style>\n",
       "<table border=\"1\" class=\"dataframe\">\n",
       "  <thead>\n",
       "    <tr style=\"text-align: right;\">\n",
       "      <th></th>\n",
       "      <th>Id</th>\n",
       "      <th>groupId</th>\n",
       "      <th>matchId</th>\n",
       "      <th>assists</th>\n",
       "      <th>boosts</th>\n",
       "      <th>damageDealt</th>\n",
       "      <th>DBNOs</th>\n",
       "      <th>headshotKills</th>\n",
       "      <th>heals</th>\n",
       "      <th>killPlace</th>\n",
       "      <th>killPoints</th>\n",
       "      <th>kills</th>\n",
       "      <th>killStreaks</th>\n",
       "      <th>longestKill</th>\n",
       "      <th>matchDuration</th>\n",
       "      <th>matchType</th>\n",
       "      <th>maxPlace</th>\n",
       "      <th>numGroups</th>\n",
       "      <th>rankPoints</th>\n",
       "      <th>revives</th>\n",
       "      <th>rideDistance</th>\n",
       "      <th>roadKills</th>\n",
       "      <th>swimDistance</th>\n",
       "      <th>teamKills</th>\n",
       "      <th>vehicleDestroys</th>\n",
       "      <th>walkDistance</th>\n",
       "      <th>weaponsAcquired</th>\n",
       "      <th>winPoints</th>\n",
       "      <th>winPlacePerc</th>\n",
       "    </tr>\n",
       "  </thead>\n",
       "  <tbody>\n",
       "    <tr>\n",
       "      <th>0</th>\n",
       "      <td>7f96b2f878858a</td>\n",
       "      <td>4d4b580de459be</td>\n",
       "      <td>a10357fd1a4a91</td>\n",
       "      <td>0</td>\n",
       "      <td>0</td>\n",
       "      <td>0.00</td>\n",
       "      <td>0</td>\n",
       "      <td>0</td>\n",
       "      <td>0</td>\n",
       "      <td>60</td>\n",
       "      <td>1241</td>\n",
       "      <td>0</td>\n",
       "      <td>0</td>\n",
       "      <td>0.00</td>\n",
       "      <td>1306</td>\n",
       "      <td>squad-fpp</td>\n",
       "      <td>28</td>\n",
       "      <td>26</td>\n",
       "      <td>-1</td>\n",
       "      <td>0</td>\n",
       "      <td>0.0000</td>\n",
       "      <td>0</td>\n",
       "      <td>0.00</td>\n",
       "      <td>0</td>\n",
       "      <td>0</td>\n",
       "      <td>244.80</td>\n",
       "      <td>1</td>\n",
       "      <td>1466</td>\n",
       "      <td>0.4444</td>\n",
       "    </tr>\n",
       "    <tr>\n",
       "      <th>1</th>\n",
       "      <td>eef90569b9d03c</td>\n",
       "      <td>684d5656442f9e</td>\n",
       "      <td>aeb375fc57110c</td>\n",
       "      <td>0</td>\n",
       "      <td>0</td>\n",
       "      <td>91.47</td>\n",
       "      <td>0</td>\n",
       "      <td>0</td>\n",
       "      <td>0</td>\n",
       "      <td>57</td>\n",
       "      <td>0</td>\n",
       "      <td>0</td>\n",
       "      <td>0</td>\n",
       "      <td>0.00</td>\n",
       "      <td>1777</td>\n",
       "      <td>squad-fpp</td>\n",
       "      <td>26</td>\n",
       "      <td>25</td>\n",
       "      <td>1484</td>\n",
       "      <td>0</td>\n",
       "      <td>0.0045</td>\n",
       "      <td>0</td>\n",
       "      <td>11.04</td>\n",
       "      <td>0</td>\n",
       "      <td>0</td>\n",
       "      <td>1434.00</td>\n",
       "      <td>5</td>\n",
       "      <td>0</td>\n",
       "      <td>0.6400</td>\n",
       "    </tr>\n",
       "    <tr>\n",
       "      <th>2</th>\n",
       "      <td>1eaf90ac73de72</td>\n",
       "      <td>6a4a42c3245a74</td>\n",
       "      <td>110163d8bb94ae</td>\n",
       "      <td>1</td>\n",
       "      <td>0</td>\n",
       "      <td>68.00</td>\n",
       "      <td>0</td>\n",
       "      <td>0</td>\n",
       "      <td>0</td>\n",
       "      <td>47</td>\n",
       "      <td>0</td>\n",
       "      <td>0</td>\n",
       "      <td>0</td>\n",
       "      <td>0.00</td>\n",
       "      <td>1318</td>\n",
       "      <td>duo</td>\n",
       "      <td>50</td>\n",
       "      <td>47</td>\n",
       "      <td>1491</td>\n",
       "      <td>0</td>\n",
       "      <td>0.0000</td>\n",
       "      <td>0</td>\n",
       "      <td>0.00</td>\n",
       "      <td>0</td>\n",
       "      <td>0</td>\n",
       "      <td>161.80</td>\n",
       "      <td>2</td>\n",
       "      <td>0</td>\n",
       "      <td>0.7755</td>\n",
       "    </tr>\n",
       "    <tr>\n",
       "      <th>3</th>\n",
       "      <td>4616d365dd2853</td>\n",
       "      <td>a930a9c79cd721</td>\n",
       "      <td>f1f1f4ef412d7e</td>\n",
       "      <td>0</td>\n",
       "      <td>0</td>\n",
       "      <td>32.90</td>\n",
       "      <td>0</td>\n",
       "      <td>0</td>\n",
       "      <td>0</td>\n",
       "      <td>75</td>\n",
       "      <td>0</td>\n",
       "      <td>0</td>\n",
       "      <td>0</td>\n",
       "      <td>0.00</td>\n",
       "      <td>1436</td>\n",
       "      <td>squad-fpp</td>\n",
       "      <td>31</td>\n",
       "      <td>30</td>\n",
       "      <td>1408</td>\n",
       "      <td>0</td>\n",
       "      <td>0.0000</td>\n",
       "      <td>0</td>\n",
       "      <td>0.00</td>\n",
       "      <td>0</td>\n",
       "      <td>0</td>\n",
       "      <td>202.70</td>\n",
       "      <td>3</td>\n",
       "      <td>0</td>\n",
       "      <td>0.1667</td>\n",
       "    </tr>\n",
       "    <tr>\n",
       "      <th>4</th>\n",
       "      <td>315c96c26c9aac</td>\n",
       "      <td>de04010b3458dd</td>\n",
       "      <td>6dc8ff871e21e6</td>\n",
       "      <td>0</td>\n",
       "      <td>0</td>\n",
       "      <td>100.00</td>\n",
       "      <td>0</td>\n",
       "      <td>0</td>\n",
       "      <td>0</td>\n",
       "      <td>45</td>\n",
       "      <td>0</td>\n",
       "      <td>1</td>\n",
       "      <td>1</td>\n",
       "      <td>58.53</td>\n",
       "      <td>1424</td>\n",
       "      <td>solo-fpp</td>\n",
       "      <td>97</td>\n",
       "      <td>95</td>\n",
       "      <td>1560</td>\n",
       "      <td>0</td>\n",
       "      <td>0.0000</td>\n",
       "      <td>0</td>\n",
       "      <td>0.00</td>\n",
       "      <td>0</td>\n",
       "      <td>0</td>\n",
       "      <td>49.75</td>\n",
       "      <td>2</td>\n",
       "      <td>0</td>\n",
       "      <td>0.1875</td>\n",
       "    </tr>\n",
       "  </tbody>\n",
       "</table>\n",
       "</div>"
      ],
      "text/plain": [
       "               Id         groupId         matchId  assists  boosts  \\\n",
       "0  7f96b2f878858a  4d4b580de459be  a10357fd1a4a91        0       0   \n",
       "1  eef90569b9d03c  684d5656442f9e  aeb375fc57110c        0       0   \n",
       "2  1eaf90ac73de72  6a4a42c3245a74  110163d8bb94ae        1       0   \n",
       "3  4616d365dd2853  a930a9c79cd721  f1f1f4ef412d7e        0       0   \n",
       "4  315c96c26c9aac  de04010b3458dd  6dc8ff871e21e6        0       0   \n",
       "\n",
       "   damageDealt  DBNOs  headshotKills  heals  killPlace  killPoints  kills  \\\n",
       "0         0.00      0              0      0         60        1241      0   \n",
       "1        91.47      0              0      0         57           0      0   \n",
       "2        68.00      0              0      0         47           0      0   \n",
       "3        32.90      0              0      0         75           0      0   \n",
       "4       100.00      0              0      0         45           0      1   \n",
       "\n",
       "   killStreaks  longestKill  matchDuration  matchType  maxPlace  numGroups  \\\n",
       "0            0         0.00           1306  squad-fpp        28         26   \n",
       "1            0         0.00           1777  squad-fpp        26         25   \n",
       "2            0         0.00           1318        duo        50         47   \n",
       "3            0         0.00           1436  squad-fpp        31         30   \n",
       "4            1        58.53           1424   solo-fpp        97         95   \n",
       "\n",
       "   rankPoints  revives  rideDistance  roadKills  swimDistance  teamKills  \\\n",
       "0          -1        0        0.0000          0          0.00          0   \n",
       "1        1484        0        0.0045          0         11.04          0   \n",
       "2        1491        0        0.0000          0          0.00          0   \n",
       "3        1408        0        0.0000          0          0.00          0   \n",
       "4        1560        0        0.0000          0          0.00          0   \n",
       "\n",
       "   vehicleDestroys  walkDistance  weaponsAcquired  winPoints  winPlacePerc  \n",
       "0                0        244.80                1       1466        0.4444  \n",
       "1                0       1434.00                5          0        0.6400  \n",
       "2                0        161.80                2          0        0.7755  \n",
       "3                0        202.70                3          0        0.1667  \n",
       "4                0         49.75                2          0        0.1875  "
      ]
     },
     "execution_count": 10,
     "metadata": {},
     "output_type": "execute_result"
    }
   ],
   "source": [
    "df.head(5)"
   ]
  },
  {
   "cell_type": "code",
   "execution_count": 11,
   "id": "7696f475",
   "metadata": {
    "execution": {
     "iopub.execute_input": "2022-04-06T18:53:15.827221Z",
     "iopub.status.busy": "2022-04-06T18:53:15.826616Z",
     "iopub.status.idle": "2022-04-06T18:53:18.529797Z",
     "shell.execute_reply": "2022-04-06T18:53:18.529265Z",
     "shell.execute_reply.started": "2022-04-06T03:40:11.674859Z"
    },
    "papermill": {
     "duration": 2.817034,
     "end_time": "2022-04-06T18:53:18.529953",
     "exception": false,
     "start_time": "2022-04-06T18:53:15.712919",
     "status": "completed"
    },
    "tags": []
   },
   "outputs": [
    {
     "name": "stdout",
     "output_type": "stream",
     "text": [
      "4446966 there no player for playing again\n"
     ]
    }
   ],
   "source": [
    "all_new_player=df['Id'].nunique()\n",
    "print(f'{all_new_player} there no player for playing again')"
   ]
  },
  {
   "cell_type": "code",
   "execution_count": 12,
   "id": "cb69f92a",
   "metadata": {
    "execution": {
     "iopub.execute_input": "2022-04-06T18:53:18.740408Z",
     "iopub.status.busy": "2022-04-06T18:53:18.739749Z",
     "iopub.status.idle": "2022-04-06T18:53:18.744855Z",
     "shell.execute_reply": "2022-04-06T18:53:18.745438Z",
     "shell.execute_reply.started": "2022-04-06T03:40:15.988202Z"
    },
    "papermill": {
     "duration": 0.115364,
     "end_time": "2022-04-06T18:53:18.745634",
     "exception": false,
     "start_time": "2022-04-06T18:53:18.630270",
     "status": "completed"
    },
    "tags": []
   },
   "outputs": [
    {
     "data": {
      "text/plain": [
       "Index(['Id', 'groupId', 'matchId', 'assists', 'boosts', 'damageDealt', 'DBNOs',\n",
       "       'headshotKills', 'heals', 'killPlace', 'killPoints', 'kills',\n",
       "       'killStreaks', 'longestKill', 'matchDuration', 'matchType', 'maxPlace',\n",
       "       'numGroups', 'rankPoints', 'revives', 'rideDistance', 'roadKills',\n",
       "       'swimDistance', 'teamKills', 'vehicleDestroys', 'walkDistance',\n",
       "       'weaponsAcquired', 'winPoints', 'winPlacePerc'],\n",
       "      dtype='object')"
      ]
     },
     "execution_count": 12,
     "metadata": {},
     "output_type": "execute_result"
    }
   ],
   "source": [
    "df.columns"
   ]
  },
  {
   "cell_type": "code",
   "execution_count": 13,
   "id": "650cee5d",
   "metadata": {
    "execution": {
     "iopub.execute_input": "2022-04-06T18:53:18.952067Z",
     "iopub.status.busy": "2022-04-06T18:53:18.951338Z",
     "iopub.status.idle": "2022-04-06T18:53:18.958591Z",
     "shell.execute_reply": "2022-04-06T18:53:18.957817Z",
     "shell.execute_reply.started": "2022-04-06T03:40:17.367227Z"
    },
    "papermill": {
     "duration": 0.113145,
     "end_time": "2022-04-06T18:53:18.958805",
     "exception": false,
     "start_time": "2022-04-06T18:53:18.845660",
     "status": "completed"
    },
    "tags": []
   },
   "outputs": [
    {
     "name": "stdout",
     "output_type": "stream",
     "text": [
      "7f96b2f878858a player id is alphnumerice & dtype object\n"
     ]
    }
   ],
   "source": [
    "print(f'{df[\"Id\"][0]} player id is alphnumerice & dtype {df[\"Id\"].dtype}')"
   ]
  },
  {
   "cell_type": "code",
   "execution_count": 14,
   "id": "62859457",
   "metadata": {
    "execution": {
     "iopub.execute_input": "2022-04-06T18:53:19.166738Z",
     "iopub.status.busy": "2022-04-06T18:53:19.165052Z",
     "iopub.status.idle": "2022-04-06T18:53:19.169594Z",
     "shell.execute_reply": "2022-04-06T18:53:19.170142Z",
     "shell.execute_reply.started": "2022-04-06T03:40:20.107872Z"
    },
    "papermill": {
     "duration": 0.108449,
     "end_time": "2022-04-06T18:53:19.170335",
     "exception": false,
     "start_time": "2022-04-06T18:53:19.061886",
     "status": "completed"
    },
    "tags": []
   },
   "outputs": [
    {
     "data": {
      "text/plain": [
       "(4446966, 29)"
      ]
     },
     "execution_count": 14,
     "metadata": {},
     "output_type": "execute_result"
    }
   ],
   "source": [
    "df.shape"
   ]
  },
  {
   "cell_type": "code",
   "execution_count": 15,
   "id": "7c30e5e5",
   "metadata": {
    "execution": {
     "iopub.execute_input": "2022-04-06T18:53:19.372580Z",
     "iopub.status.busy": "2022-04-06T18:53:19.371863Z",
     "iopub.status.idle": "2022-04-06T18:53:19.568691Z",
     "shell.execute_reply": "2022-04-06T18:53:19.569140Z",
     "shell.execute_reply.started": "2022-04-06T03:40:21.223925Z"
    },
    "papermill": {
     "duration": 0.299587,
     "end_time": "2022-04-06T18:53:19.569295",
     "exception": false,
     "start_time": "2022-04-06T18:53:19.269708",
     "status": "completed"
    },
    "tags": []
   },
   "outputs": [
    {
     "name": "stdout",
     "output_type": "stream",
     "text": [
      "4446966 all player are different group \n"
     ]
    }
   ],
   "source": [
    "print(f\"{df['groupId'].count()} all player are different group \")"
   ]
  },
  {
   "cell_type": "code",
   "execution_count": 16,
   "id": "36dd53d1",
   "metadata": {
    "execution": {
     "iopub.execute_input": "2022-04-06T18:53:19.706055Z",
     "iopub.status.busy": "2022-04-06T18:53:19.705363Z",
     "iopub.status.idle": "2022-04-06T18:53:19.709698Z",
     "shell.execute_reply": "2022-04-06T18:53:19.710231Z",
     "shell.execute_reply.started": "2022-04-06T03:40:22.39406Z"
    },
    "papermill": {
     "duration": 0.074198,
     "end_time": "2022-04-06T18:53:19.710407",
     "exception": false,
     "start_time": "2022-04-06T18:53:19.636209",
     "status": "completed"
    },
    "tags": []
   },
   "outputs": [
    {
     "name": "stdout",
     "output_type": "stream",
     "text": [
      "4d4b580de459be group id is alphnumerice & dtype object \n"
     ]
    }
   ],
   "source": [
    "print(f'{df[\"groupId\"][0]} group id is alphnumerice & dtype {df[\"groupId\"].dtype} ')"
   ]
  },
  {
   "cell_type": "code",
   "execution_count": 17,
   "id": "470151f3",
   "metadata": {
    "execution": {
     "iopub.execute_input": "2022-04-06T18:53:19.852614Z",
     "iopub.status.busy": "2022-04-06T18:53:19.851980Z",
     "iopub.status.idle": "2022-04-06T18:53:20.403513Z",
     "shell.execute_reply": "2022-04-06T18:53:20.402991Z",
     "shell.execute_reply.started": "2022-04-06T03:40:23.765067Z"
    },
    "papermill": {
     "duration": 0.623142,
     "end_time": "2022-04-06T18:53:20.403625",
     "exception": false,
     "start_time": "2022-04-06T18:53:19.780483",
     "status": "completed"
    },
    "tags": []
   },
   "outputs": [
    {
     "name": "stdout",
     "output_type": "stream",
     "text": [
      " we have number of distnic values 16 \n",
      " & also distnice columns-->\n",
      " ['squad-fpp' 'duo' 'solo-fpp' 'squad' 'duo-fpp' 'solo' 'normal-squad-fpp'\n",
      " 'crashfpp' 'flaretpp' 'normal-solo-fpp' 'flarefpp' 'normal-duo-fpp'\n",
      " 'normal-duo' 'normal-squad' 'crashtpp' 'normal-solo'] \n"
     ]
    }
   ],
   "source": [
    "print(f\" we have number of distnic values {df['matchType'].nunique()} \\n & also distnice columns-->\\n {df['matchType'].unique()} \")"
   ]
  },
  {
   "cell_type": "markdown",
   "id": "96478743",
   "metadata": {
    "papermill": {
     "duration": 0.066615,
     "end_time": "2022-04-06T18:53:20.537849",
     "exception": false,
     "start_time": "2022-04-06T18:53:20.471234",
     "status": "completed"
    },
    "tags": []
   },
   "source": [
    "converting Cetgorigal values into integer range `0 to 15` in `matchType`"
   ]
  },
  {
   "cell_type": "code",
   "execution_count": 18,
   "id": "aedc1512",
   "metadata": {
    "execution": {
     "iopub.execute_input": "2022-04-06T18:53:20.676386Z",
     "iopub.status.busy": "2022-04-06T18:53:20.675715Z",
     "iopub.status.idle": "2022-04-06T18:53:23.769456Z",
     "shell.execute_reply": "2022-04-06T18:53:23.768898Z",
     "shell.execute_reply.started": "2022-04-06T18:31:05.639257Z"
    },
    "papermill": {
     "duration": 3.165636,
     "end_time": "2022-04-06T18:53:23.769579",
     "exception": false,
     "start_time": "2022-04-06T18:53:20.603943",
     "status": "completed"
    },
    "tags": []
   },
   "outputs": [],
   "source": [
    "df['matchType'].replace(df['matchType'].unique(),list(range(0,16)),inplace=True)"
   ]
  },
  {
   "cell_type": "markdown",
   "id": "5e96606c",
   "metadata": {
    "papermill": {
     "duration": 0.06426,
     "end_time": "2022-04-06T18:53:23.901388",
     "exception": false,
     "start_time": "2022-04-06T18:53:23.837128",
     "status": "completed"
    },
    "tags": []
   },
   "source": [
    "reducing size of data"
   ]
  },
  {
   "cell_type": "code",
   "execution_count": 19,
   "id": "f5225cb8",
   "metadata": {
    "execution": {
     "iopub.execute_input": "2022-04-06T18:53:24.038243Z",
     "iopub.status.busy": "2022-04-06T18:53:24.037677Z",
     "iopub.status.idle": "2022-04-06T18:53:25.295349Z",
     "shell.execute_reply": "2022-04-06T18:53:25.294769Z",
     "shell.execute_reply.started": "2022-04-06T18:31:11.567324Z"
    },
    "papermill": {
     "duration": 1.328444,
     "end_time": "2022-04-06T18:53:25.295470",
     "exception": false,
     "start_time": "2022-04-06T18:53:23.967026",
     "status": "completed"
    },
    "tags": []
   },
   "outputs": [],
   "source": [
    "for column in df.columns[3:]:\n",
    "    if df[column].dtype==np.int64:\n",
    "        df[column]=df[column].astype(np.int8)\n",
    "#     print(i)\n",
    "    else:\n",
    "        df[column]=df[column].astype(np.float16)"
   ]
  },
  {
   "cell_type": "code",
   "execution_count": 20,
   "id": "0101772c",
   "metadata": {
    "execution": {
     "iopub.execute_input": "2022-04-06T18:53:25.439307Z",
     "iopub.status.busy": "2022-04-06T18:53:25.438683Z",
     "iopub.status.idle": "2022-04-06T18:53:25.441289Z",
     "shell.execute_reply": "2022-04-06T18:53:25.441677Z",
     "shell.execute_reply.started": "2022-04-06T18:09:54.849431Z"
    },
    "papermill": {
     "duration": 0.0817,
     "end_time": "2022-04-06T18:53:25.441836",
     "exception": false,
     "start_time": "2022-04-06T18:53:25.360136",
     "status": "completed"
    },
    "tags": []
   },
   "outputs": [
    {
     "name": "stdout",
     "output_type": "stream",
     "text": [
      "<class 'pandas.core.frame.DataFrame'>\n",
      "RangeIndex: 4446966 entries, 0 to 4446965\n",
      "Data columns (total 29 columns):\n",
      " #   Column           Dtype  \n",
      "---  ------           -----  \n",
      " 0   Id               object \n",
      " 1   groupId          object \n",
      " 2   matchId          object \n",
      " 3   assists          int8   \n",
      " 4   boosts           int8   \n",
      " 5   damageDealt      float16\n",
      " 6   DBNOs            int8   \n",
      " 7   headshotKills    int8   \n",
      " 8   heals            int8   \n",
      " 9   killPlace        int8   \n",
      " 10  killPoints       int8   \n",
      " 11  kills            int8   \n",
      " 12  killStreaks      int8   \n",
      " 13  longestKill      float16\n",
      " 14  matchDuration    int8   \n",
      " 15  matchType        int8   \n",
      " 16  maxPlace         int8   \n",
      " 17  numGroups        int8   \n",
      " 18  rankPoints       int8   \n",
      " 19  revives          int8   \n",
      " 20  rideDistance     float16\n",
      " 21  roadKills        int8   \n",
      " 22  swimDistance     float16\n",
      " 23  teamKills        int8   \n",
      " 24  vehicleDestroys  int8   \n",
      " 25  walkDistance     float16\n",
      " 26  weaponsAcquired  int8   \n",
      " 27  winPoints        int8   \n",
      " 28  winPlacePerc     float16\n",
      "dtypes: float16(6), int8(20), object(3)\n",
      "memory usage: 237.5+ MB\n"
     ]
    }
   ],
   "source": [
    "df.info()"
   ]
  },
  {
   "cell_type": "code",
   "execution_count": 21,
   "id": "7473a7a2",
   "metadata": {
    "execution": {
     "iopub.execute_input": "2022-04-06T18:53:25.579898Z",
     "iopub.status.busy": "2022-04-06T18:53:25.579231Z",
     "iopub.status.idle": "2022-04-06T18:53:25.599032Z",
     "shell.execute_reply": "2022-04-06T18:53:25.599462Z",
     "shell.execute_reply.started": "2022-04-06T18:10:01.293700Z"
    },
    "papermill": {
     "duration": 0.089614,
     "end_time": "2022-04-06T18:53:25.599607",
     "exception": false,
     "start_time": "2022-04-06T18:53:25.509993",
     "status": "completed"
    },
    "tags": []
   },
   "outputs": [
    {
     "data": {
      "text/html": [
       "<div>\n",
       "<style scoped>\n",
       "    .dataframe tbody tr th:only-of-type {\n",
       "        vertical-align: middle;\n",
       "    }\n",
       "\n",
       "    .dataframe tbody tr th {\n",
       "        vertical-align: top;\n",
       "    }\n",
       "\n",
       "    .dataframe thead th {\n",
       "        text-align: right;\n",
       "    }\n",
       "</style>\n",
       "<table border=\"1\" class=\"dataframe\">\n",
       "  <thead>\n",
       "    <tr style=\"text-align: right;\">\n",
       "      <th></th>\n",
       "      <th>Id</th>\n",
       "      <th>groupId</th>\n",
       "      <th>matchId</th>\n",
       "      <th>assists</th>\n",
       "      <th>boosts</th>\n",
       "      <th>damageDealt</th>\n",
       "      <th>DBNOs</th>\n",
       "      <th>headshotKills</th>\n",
       "      <th>heals</th>\n",
       "      <th>killPlace</th>\n",
       "      <th>killPoints</th>\n",
       "      <th>kills</th>\n",
       "      <th>killStreaks</th>\n",
       "      <th>longestKill</th>\n",
       "      <th>matchDuration</th>\n",
       "      <th>matchType</th>\n",
       "      <th>maxPlace</th>\n",
       "      <th>numGroups</th>\n",
       "      <th>rankPoints</th>\n",
       "      <th>revives</th>\n",
       "      <th>rideDistance</th>\n",
       "      <th>roadKills</th>\n",
       "      <th>swimDistance</th>\n",
       "      <th>teamKills</th>\n",
       "      <th>vehicleDestroys</th>\n",
       "      <th>walkDistance</th>\n",
       "      <th>weaponsAcquired</th>\n",
       "      <th>winPoints</th>\n",
       "      <th>winPlacePerc</th>\n",
       "    </tr>\n",
       "  </thead>\n",
       "  <tbody>\n",
       "    <tr>\n",
       "      <th>0</th>\n",
       "      <td>7f96b2f878858a</td>\n",
       "      <td>4d4b580de459be</td>\n",
       "      <td>a10357fd1a4a91</td>\n",
       "      <td>0</td>\n",
       "      <td>0</td>\n",
       "      <td>0.00000</td>\n",
       "      <td>0</td>\n",
       "      <td>0</td>\n",
       "      <td>0</td>\n",
       "      <td>60</td>\n",
       "      <td>-39</td>\n",
       "      <td>0</td>\n",
       "      <td>0</td>\n",
       "      <td>0.00000</td>\n",
       "      <td>26</td>\n",
       "      <td>0</td>\n",
       "      <td>28</td>\n",
       "      <td>26</td>\n",
       "      <td>-1</td>\n",
       "      <td>0</td>\n",
       "      <td>0.000000</td>\n",
       "      <td>0</td>\n",
       "      <td>0.000000</td>\n",
       "      <td>0</td>\n",
       "      <td>0</td>\n",
       "      <td>244.75</td>\n",
       "      <td>1</td>\n",
       "      <td>-70</td>\n",
       "      <td>0.444336</td>\n",
       "    </tr>\n",
       "    <tr>\n",
       "      <th>1</th>\n",
       "      <td>eef90569b9d03c</td>\n",
       "      <td>684d5656442f9e</td>\n",
       "      <td>aeb375fc57110c</td>\n",
       "      <td>0</td>\n",
       "      <td>0</td>\n",
       "      <td>91.50000</td>\n",
       "      <td>0</td>\n",
       "      <td>0</td>\n",
       "      <td>0</td>\n",
       "      <td>57</td>\n",
       "      <td>0</td>\n",
       "      <td>0</td>\n",
       "      <td>0</td>\n",
       "      <td>0.00000</td>\n",
       "      <td>-15</td>\n",
       "      <td>0</td>\n",
       "      <td>26</td>\n",
       "      <td>25</td>\n",
       "      <td>-52</td>\n",
       "      <td>0</td>\n",
       "      <td>0.004501</td>\n",
       "      <td>0</td>\n",
       "      <td>11.039062</td>\n",
       "      <td>0</td>\n",
       "      <td>0</td>\n",
       "      <td>1434.00</td>\n",
       "      <td>5</td>\n",
       "      <td>0</td>\n",
       "      <td>0.640137</td>\n",
       "    </tr>\n",
       "    <tr>\n",
       "      <th>2</th>\n",
       "      <td>1eaf90ac73de72</td>\n",
       "      <td>6a4a42c3245a74</td>\n",
       "      <td>110163d8bb94ae</td>\n",
       "      <td>1</td>\n",
       "      <td>0</td>\n",
       "      <td>68.00000</td>\n",
       "      <td>0</td>\n",
       "      <td>0</td>\n",
       "      <td>0</td>\n",
       "      <td>47</td>\n",
       "      <td>0</td>\n",
       "      <td>0</td>\n",
       "      <td>0</td>\n",
       "      <td>0.00000</td>\n",
       "      <td>38</td>\n",
       "      <td>1</td>\n",
       "      <td>50</td>\n",
       "      <td>47</td>\n",
       "      <td>-45</td>\n",
       "      <td>0</td>\n",
       "      <td>0.000000</td>\n",
       "      <td>0</td>\n",
       "      <td>0.000000</td>\n",
       "      <td>0</td>\n",
       "      <td>0</td>\n",
       "      <td>161.75</td>\n",
       "      <td>2</td>\n",
       "      <td>0</td>\n",
       "      <td>0.775391</td>\n",
       "    </tr>\n",
       "    <tr>\n",
       "      <th>3</th>\n",
       "      <td>4616d365dd2853</td>\n",
       "      <td>a930a9c79cd721</td>\n",
       "      <td>f1f1f4ef412d7e</td>\n",
       "      <td>0</td>\n",
       "      <td>0</td>\n",
       "      <td>32.90625</td>\n",
       "      <td>0</td>\n",
       "      <td>0</td>\n",
       "      <td>0</td>\n",
       "      <td>75</td>\n",
       "      <td>0</td>\n",
       "      <td>0</td>\n",
       "      <td>0</td>\n",
       "      <td>0.00000</td>\n",
       "      <td>-100</td>\n",
       "      <td>0</td>\n",
       "      <td>31</td>\n",
       "      <td>30</td>\n",
       "      <td>-128</td>\n",
       "      <td>0</td>\n",
       "      <td>0.000000</td>\n",
       "      <td>0</td>\n",
       "      <td>0.000000</td>\n",
       "      <td>0</td>\n",
       "      <td>0</td>\n",
       "      <td>202.75</td>\n",
       "      <td>3</td>\n",
       "      <td>0</td>\n",
       "      <td>0.166748</td>\n",
       "    </tr>\n",
       "    <tr>\n",
       "      <th>4</th>\n",
       "      <td>315c96c26c9aac</td>\n",
       "      <td>de04010b3458dd</td>\n",
       "      <td>6dc8ff871e21e6</td>\n",
       "      <td>0</td>\n",
       "      <td>0</td>\n",
       "      <td>100.00000</td>\n",
       "      <td>0</td>\n",
       "      <td>0</td>\n",
       "      <td>0</td>\n",
       "      <td>45</td>\n",
       "      <td>0</td>\n",
       "      <td>1</td>\n",
       "      <td>1</td>\n",
       "      <td>58.53125</td>\n",
       "      <td>-112</td>\n",
       "      <td>2</td>\n",
       "      <td>97</td>\n",
       "      <td>95</td>\n",
       "      <td>24</td>\n",
       "      <td>0</td>\n",
       "      <td>0.000000</td>\n",
       "      <td>0</td>\n",
       "      <td>0.000000</td>\n",
       "      <td>0</td>\n",
       "      <td>0</td>\n",
       "      <td>49.75</td>\n",
       "      <td>2</td>\n",
       "      <td>0</td>\n",
       "      <td>0.187500</td>\n",
       "    </tr>\n",
       "  </tbody>\n",
       "</table>\n",
       "</div>"
      ],
      "text/plain": [
       "               Id         groupId         matchId  assists  boosts  \\\n",
       "0  7f96b2f878858a  4d4b580de459be  a10357fd1a4a91        0       0   \n",
       "1  eef90569b9d03c  684d5656442f9e  aeb375fc57110c        0       0   \n",
       "2  1eaf90ac73de72  6a4a42c3245a74  110163d8bb94ae        1       0   \n",
       "3  4616d365dd2853  a930a9c79cd721  f1f1f4ef412d7e        0       0   \n",
       "4  315c96c26c9aac  de04010b3458dd  6dc8ff871e21e6        0       0   \n",
       "\n",
       "   damageDealt  DBNOs  headshotKills  heals  killPlace  killPoints  kills  \\\n",
       "0      0.00000      0              0      0         60         -39      0   \n",
       "1     91.50000      0              0      0         57           0      0   \n",
       "2     68.00000      0              0      0         47           0      0   \n",
       "3     32.90625      0              0      0         75           0      0   \n",
       "4    100.00000      0              0      0         45           0      1   \n",
       "\n",
       "   killStreaks  longestKill  matchDuration  matchType  maxPlace  numGroups  \\\n",
       "0            0      0.00000             26          0        28         26   \n",
       "1            0      0.00000            -15          0        26         25   \n",
       "2            0      0.00000             38          1        50         47   \n",
       "3            0      0.00000           -100          0        31         30   \n",
       "4            1     58.53125           -112          2        97         95   \n",
       "\n",
       "   rankPoints  revives  rideDistance  roadKills  swimDistance  teamKills  \\\n",
       "0          -1        0      0.000000          0      0.000000          0   \n",
       "1         -52        0      0.004501          0     11.039062          0   \n",
       "2         -45        0      0.000000          0      0.000000          0   \n",
       "3        -128        0      0.000000          0      0.000000          0   \n",
       "4          24        0      0.000000          0      0.000000          0   \n",
       "\n",
       "   vehicleDestroys  walkDistance  weaponsAcquired  winPoints  winPlacePerc  \n",
       "0                0        244.75                1        -70      0.444336  \n",
       "1                0       1434.00                5          0      0.640137  \n",
       "2                0        161.75                2          0      0.775391  \n",
       "3                0        202.75                3          0      0.166748  \n",
       "4                0         49.75                2          0      0.187500  "
      ]
     },
     "execution_count": 21,
     "metadata": {},
     "output_type": "execute_result"
    }
   ],
   "source": [
    "# Now, we had new data set numerical values\n",
    "df.head(5)"
   ]
  },
  {
   "cell_type": "code",
   "execution_count": 22,
   "id": "960dc741",
   "metadata": {
    "execution": {
     "iopub.execute_input": "2022-04-06T18:53:25.737286Z",
     "iopub.status.busy": "2022-04-06T18:53:25.736615Z",
     "iopub.status.idle": "2022-04-06T18:53:26.393804Z",
     "shell.execute_reply": "2022-04-06T18:53:26.393400Z",
     "shell.execute_reply.started": "2022-04-06T18:10:27.553833Z"
    },
    "papermill": {
     "duration": 0.725992,
     "end_time": "2022-04-06T18:53:26.393922",
     "exception": false,
     "start_time": "2022-04-06T18:53:25.667930",
     "status": "completed"
    },
    "tags": []
   },
   "outputs": [
    {
     "data": {
      "text/plain": [
       "Id                 0\n",
       "groupId            0\n",
       "matchId            0\n",
       "assists            0\n",
       "boosts             0\n",
       "damageDealt        0\n",
       "DBNOs              0\n",
       "headshotKills      0\n",
       "heals              0\n",
       "killPlace          0\n",
       "killPoints         0\n",
       "kills              0\n",
       "killStreaks        0\n",
       "longestKill        0\n",
       "matchDuration      0\n",
       "matchType          0\n",
       "maxPlace           0\n",
       "numGroups          0\n",
       "rankPoints         0\n",
       "revives            0\n",
       "rideDistance       0\n",
       "roadKills          0\n",
       "swimDistance       0\n",
       "teamKills          0\n",
       "vehicleDestroys    0\n",
       "walkDistance       0\n",
       "weaponsAcquired    0\n",
       "winPoints          0\n",
       "winPlacePerc       1\n",
       "dtype: int64"
      ]
     },
     "execution_count": 22,
     "metadata": {},
     "output_type": "execute_result"
    }
   ],
   "source": [
    "df.isnull().sum()"
   ]
  },
  {
   "cell_type": "markdown",
   "id": "345646ef",
   "metadata": {
    "papermill": {
     "duration": 0.068028,
     "end_time": "2022-04-06T18:53:26.530955",
     "exception": false,
     "start_time": "2022-04-06T18:53:26.462927",
     "status": "completed"
    },
    "tags": []
   },
   "source": [
    "we had one null values, let's drop it;"
   ]
  },
  {
   "cell_type": "code",
   "execution_count": 23,
   "id": "f47f0b50",
   "metadata": {
    "execution": {
     "iopub.execute_input": "2022-04-06T18:53:26.671946Z",
     "iopub.status.busy": "2022-04-06T18:53:26.671239Z",
     "iopub.status.idle": "2022-04-06T18:53:28.082610Z",
     "shell.execute_reply": "2022-04-06T18:53:28.082982Z",
     "shell.execute_reply.started": "2022-04-06T18:31:13.550976Z"
    },
    "papermill": {
     "duration": 1.484285,
     "end_time": "2022-04-06T18:53:28.083153",
     "exception": false,
     "start_time": "2022-04-06T18:53:26.598868",
     "status": "completed"
    },
    "tags": []
   },
   "outputs": [],
   "source": [
    "df=df.dropna(axis=0) # after this process we don't have any null values in over Data set"
   ]
  },
  {
   "cell_type": "markdown",
   "id": "66151e3c",
   "metadata": {
    "papermill": {
     "duration": 0.066969,
     "end_time": "2022-04-06T18:53:28.215904",
     "exception": false,
     "start_time": "2022-04-06T18:53:28.148935",
     "status": "completed"
    },
    "tags": []
   },
   "source": [
    "let's first see which Variable have how many unique data"
   ]
  },
  {
   "cell_type": "code",
   "execution_count": 24,
   "id": "ad77fd7f",
   "metadata": {
    "execution": {
     "iopub.execute_input": "2022-04-06T18:53:28.560891Z",
     "iopub.status.busy": "2022-04-06T18:53:28.560232Z",
     "iopub.status.idle": "2022-04-06T18:53:35.377587Z",
     "shell.execute_reply": "2022-04-06T18:53:35.377110Z",
     "shell.execute_reply.started": "2022-04-06T04:35:11.342651Z"
    },
    "papermill": {
     "duration": 7.092105,
     "end_time": "2022-04-06T18:53:35.377725",
     "exception": false,
     "start_time": "2022-04-06T18:53:28.285620",
     "status": "completed"
    },
    "tags": []
   },
   "outputs": [
    {
     "name": "stdout",
     "output_type": "stream",
     "text": [
      "this columns have number of unique values\n",
      "Id -->  4446965\n",
      "groupId -->  2026744\n",
      "matchId -->  47964\n",
      "assists -->  20\n",
      "boosts -->  27\n",
      "damageDealt -->  12925\n",
      "DBNOs -->  39\n",
      "headshotKills -->  34\n",
      "heals -->  63\n",
      "killPlace -->  101\n",
      "killPoints -->  256\n",
      "kills -->  58\n",
      "killStreaks -->  18\n",
      "longestKill -->  11155\n",
      "matchDuration -->  256\n",
      "matchType -->  16\n",
      "maxPlace -->  99\n",
      "numGroups -->  100\n",
      "rankPoints -->  256\n",
      "revives -->  25\n",
      "rideDistance -->  15734\n",
      "roadKills -->  14\n",
      "swimDistance -->  12589\n",
      "teamKills -->  11\n",
      "vehicleDestroys -->  6\n",
      "walkDistance -->  15940\n",
      "weaponsAcquired -->  97\n",
      "winPoints -->  256\n",
      "winPlacePerc -->  2268\n"
     ]
    }
   ],
   "source": [
    "# df['assists'].nunique()\n",
    "print('this columns have number of unique values')\n",
    "for column in df.columns:\n",
    "    print(column ,'--> ',df[column].nunique())\n"
   ]
  },
  {
   "cell_type": "markdown",
   "id": "8cc8e1bb",
   "metadata": {
    "papermill": {
     "duration": 0.071358,
     "end_time": "2022-04-06T18:53:35.518957",
     "exception": false,
     "start_time": "2022-04-06T18:53:35.447599",
     "status": "completed"
    },
    "tags": []
   },
   "source": [
    "let's pick randomly a variable"
   ]
  },
  {
   "cell_type": "code",
   "execution_count": 25,
   "id": "3ddc1ba4",
   "metadata": {
    "execution": {
     "iopub.execute_input": "2022-04-06T18:53:35.669141Z",
     "iopub.status.busy": "2022-04-06T18:53:35.668430Z",
     "iopub.status.idle": "2022-04-06T18:53:35.751737Z",
     "shell.execute_reply": "2022-04-06T18:53:35.751069Z",
     "shell.execute_reply.started": "2022-04-04T17:23:45.065861Z"
    },
    "papermill": {
     "duration": 0.162189,
     "end_time": "2022-04-06T18:53:35.751853",
     "exception": false,
     "start_time": "2022-04-06T18:53:35.589664",
     "status": "completed"
    },
    "tags": []
   },
   "outputs": [
    {
     "data": {
      "text/plain": [
       "count    4.446965e+06\n",
       "mean     9.247835e-01\n",
       "std      1.558445e+00\n",
       "min      0.000000e+00\n",
       "25%      0.000000e+00\n",
       "50%      0.000000e+00\n",
       "75%      1.000000e+00\n",
       "max      7.200000e+01\n",
       "Name: kills, dtype: float64"
      ]
     },
     "execution_count": 25,
     "metadata": {},
     "output_type": "execute_result"
    }
   ],
   "source": [
    "df['kills'].describe()"
   ]
  },
  {
   "cell_type": "code",
   "execution_count": 26,
   "id": "d7855dd4",
   "metadata": {
    "execution": {
     "iopub.execute_input": "2022-04-06T18:53:35.898174Z",
     "iopub.status.busy": "2022-04-06T18:53:35.897619Z",
     "iopub.status.idle": "2022-04-06T18:54:19.854997Z",
     "shell.execute_reply": "2022-04-06T18:54:19.855444Z",
     "shell.execute_reply.started": "2022-04-04T17:24:34.215527Z"
    },
    "papermill": {
     "duration": 44.032119,
     "end_time": "2022-04-06T18:54:19.855585",
     "exception": false,
     "start_time": "2022-04-06T18:53:35.823466",
     "status": "completed"
    },
    "tags": []
   },
   "outputs": [
    {
     "name": "stderr",
     "output_type": "stream",
     "text": [
      "/opt/conda/lib/python3.7/site-packages/seaborn/distributions.py:2619: FutureWarning: `distplot` is a deprecated function and will be removed in a future version. Please adapt your code to use either `displot` (a figure-level function with similar flexibility) or `histplot` (an axes-level function for histograms).\n",
      "  warnings.warn(msg, FutureWarning)\n"
     ]
    },
    {
     "data": {
      "text/plain": [
       "<AxesSubplot:xlabel='kills', ylabel='Density'>"
      ]
     },
     "execution_count": 26,
     "metadata": {},
     "output_type": "execute_result"
    },
    {
     "data": {
      "image/png": "[encoded data removed]",
      "text/plain": [
       "<Figure size 432x288 with 1 Axes>"
      ]
     },
     "metadata": {
      "needs_background": "light"
     },
     "output_type": "display_data"
    }
   ],
   "source": [
    "sns.distplot(df['kills'])"
   ]
  },
  {
   "cell_type": "code",
   "execution_count": 27,
   "id": "cd0a8ffb",
   "metadata": {
    "execution": {
     "iopub.execute_input": "2022-04-06T18:54:20.009138Z",
     "iopub.status.busy": "2022-04-06T18:54:20.008573Z",
     "iopub.status.idle": "2022-04-06T18:54:34.915181Z",
     "shell.execute_reply": "2022-04-06T18:54:34.914477Z",
     "shell.execute_reply.started": "2022-04-04T17:27:55.419928Z"
    },
    "papermill": {
     "duration": 14.986303,
     "end_time": "2022-04-06T18:54:34.915432",
     "exception": true,
     "start_time": "2022-04-06T18:54:19.929129",
     "status": "failed"
    },
    "tags": []
   },
   "outputs": [
    {
     "name": "stderr",
     "output_type": "stream",
     "text": [
      "/opt/conda/lib/python3.7/site-packages/seaborn/_decorators.py:43: FutureWarning: Pass the following variable as a keyword arg: x. From version 0.12, the only valid positional argument will be `data`, and passing other arguments without an explicit keyword will result in an error or misinterpretation.\n",
      "  FutureWarning\n"
     ]
    },
    {
     "ename": "NameError",
     "evalue": "name 'plt' is not defined",
     "output_type": "error",
     "traceback": [
      "\u001b[0;31m---------------------------------------------------------------------------\u001b[0m",
      "\u001b[0;31mNameError\u001b[0m                                 Traceback (most recent call last)",
      "\u001b[0;32m/tmp/ipykernel_19/1797699757.py\u001b[0m in \u001b[0;36m<module>\u001b[0;34m\u001b[0m\n\u001b[1;32m      1\u001b[0m \u001b[0msns\u001b[0m\u001b[0;34m.\u001b[0m\u001b[0mviolinplot\u001b[0m\u001b[0;34m(\u001b[0m\u001b[0mdf\u001b[0m\u001b[0;34m[\u001b[0m\u001b[0;34m'kills'\u001b[0m\u001b[0;34m]\u001b[0m\u001b[0;34m,\u001b[0m\u001b[0;34m)\u001b[0m\u001b[0;34m\u001b[0m\u001b[0;34m\u001b[0m\u001b[0m\n\u001b[0;32m----> 2\u001b[0;31m \u001b[0mplt\u001b[0m\u001b[0;34m.\u001b[0m\u001b[0mshow\u001b[0m\u001b[0;34m(\u001b[0m\u001b[0;34m)\u001b[0m\u001b[0;34m\u001b[0m\u001b[0;34m\u001b[0m\u001b[0m\n\u001b[0m",
      "\u001b[0;31mNameError\u001b[0m: name 'plt' is not defined"
     ]
    },
    {
     "data": {
      "image/png": "[encoded data removed]",
      "text/plain": [
       "<Figure size 432x288 with 1 Axes>"
      ]
     },
     "metadata": {
      "needs_background": "light"
     },
     "output_type": "display_data"
    }
   ],
   "source": [
    "sns.violinplot(df['kills'],)\n",
    "plt.show()"
   ]
  },
  {
   "cell_type": "code",
   "execution_count": null,
   "id": "9badd6c5",
   "metadata": {
    "execution": {
     "iopub.execute_input": "2022-04-04T17:28:48.579787Z",
     "iopub.status.busy": "2022-04-04T17:28:48.579427Z",
     "iopub.status.idle": "2022-04-04T17:29:12.176789Z",
     "shell.execute_reply": "2022-04-04T17:29:12.175794Z",
     "shell.execute_reply.started": "2022-04-04T17:28:48.579749Z"
    },
    "papermill": {
     "duration": null,
     "end_time": null,
     "exception": null,
     "start_time": null,
     "status": "pending"
    },
    "tags": []
   },
   "outputs": [],
   "source": [
    "sns.jointplot(df['kills'])"
   ]
  },
  {
   "cell_type": "code",
   "execution_count": null,
   "id": "29849d28",
   "metadata": {
    "execution": {
     "iopub.execute_input": "2022-04-04T16:57:55.191769Z",
     "iopub.status.busy": "2022-04-04T16:57:55.191207Z",
     "iopub.status.idle": "2022-04-04T16:58:04.755787Z",
     "shell.execute_reply": "2022-04-04T16:58:04.75464Z",
     "shell.execute_reply.started": "2022-04-04T16:57:55.191734Z"
    },
    "papermill": {
     "duration": null,
     "end_time": null,
     "exception": null,
     "start_time": null,
     "status": "pending"
    },
    "tags": []
   },
   "outputs": [],
   "source": [
    "sns.heatmap(df.corr())"
   ]
  },
  {
   "cell_type": "code",
   "execution_count": null,
   "id": "cdb59576",
   "metadata": {
    "execution": {
     "iopub.execute_input": "2022-04-04T17:00:15.902063Z",
     "iopub.status.busy": "2022-04-04T17:00:15.901367Z",
     "iopub.status.idle": "2022-04-04T17:00:25.164214Z",
     "shell.execute_reply": "2022-04-04T17:00:25.163446Z",
     "shell.execute_reply.started": "2022-04-04T17:00:15.90201Z"
    },
    "papermill": {
     "duration": null,
     "end_time": null,
     "exception": null,
     "start_time": null,
     "status": "pending"
    },
    "tags": []
   },
   "outputs": [],
   "source": [
    "df_corr=df.corr()"
   ]
  },
  {
   "cell_type": "code",
   "execution_count": null,
   "id": "f8187e88",
   "metadata": {
    "papermill": {
     "duration": null,
     "end_time": null,
     "exception": null,
     "start_time": null,
     "status": "pending"
    },
    "tags": []
   },
   "outputs": [],
   "source": [
    "sns.heatmap(df_corr[df_corr>0.5])"
   ]
  },
  {
   "cell_type": "code",
   "execution_count": null,
   "id": "e9d5f8e4",
   "metadata": {
    "execution": {
     "iopub.execute_input": "2022-04-04T17:15:15.380842Z",
     "iopub.status.busy": "2022-04-04T17:15:15.380393Z",
     "iopub.status.idle": "2022-04-04T17:15:15.44996Z",
     "shell.execute_reply": "2022-04-04T17:15:15.449075Z",
     "shell.execute_reply.started": "2022-04-04T17:15:15.3808Z"
    },
    "papermill": {
     "duration": null,
     "end_time": null,
     "exception": null,
     "start_time": null,
     "status": "pending"
    },
    "tags": []
   },
   "outputs": [],
   "source": [
    "df_corr[df_corr>0.5]  # now we have only correlation between 0-1"
   ]
  },
  {
   "cell_type": "code",
   "execution_count": null,
   "id": "bbabbfaf",
   "metadata": {
    "execution": {
     "iopub.execute_input": "2022-04-04T17:14:56.306581Z",
     "iopub.status.busy": "2022-04-04T17:14:56.306241Z",
     "iopub.status.idle": "2022-04-04T17:15:04.261933Z",
     "shell.execute_reply": "2022-04-04T17:15:04.260883Z",
     "shell.execute_reply.started": "2022-04-04T17:14:56.30654Z"
    },
    "papermill": {
     "duration": null,
     "end_time": null,
     "exception": null,
     "start_time": null,
     "status": "pending"
    },
    "tags": []
   },
   "outputs": [],
   "source": [
    "from gc import collect\n",
    "collect()"
   ]
  },
  {
   "cell_type": "code",
   "execution_count": null,
   "id": "febff96f",
   "metadata": {
    "execution": {
     "iopub.execute_input": "2022-04-04T17:17:41.216035Z",
     "iopub.status.busy": "2022-04-04T17:17:41.215579Z",
     "iopub.status.idle": "2022-04-04T17:17:41.223854Z",
     "shell.execute_reply": "2022-04-04T17:17:41.222813Z",
     "shell.execute_reply.started": "2022-04-04T17:17:41.215959Z"
    },
    "papermill": {
     "duration": null,
     "end_time": null,
     "exception": null,
     "start_time": null,
     "status": "pending"
    },
    "tags": []
   },
   "outputs": [],
   "source": [
    "%matplotlib inline\n",
    "import matplotlib.pyplot as plt"
   ]
  },
  {
   "cell_type": "code",
   "execution_count": null,
   "id": "f382cc31",
   "metadata": {
    "execution": {
     "iopub.execute_input": "2022-04-04T17:22:11.148183Z",
     "iopub.status.busy": "2022-04-04T17:22:11.146839Z",
     "iopub.status.idle": "2022-04-04T17:22:26.678798Z",
     "shell.execute_reply": "2022-04-04T17:22:26.677979Z",
     "shell.execute_reply.started": "2022-04-04T17:22:11.14813Z"
    },
    "papermill": {
     "duration": null,
     "end_time": null,
     "exception": null,
     "start_time": null,
     "status": "pending"
    },
    "tags": []
   },
   "outputs": [],
   "source": [
    "plt.scatter(data=df,x='kills',y='winPlacePerc')\n",
    "plt.show()"
   ]
  },
  {
   "cell_type": "code",
   "execution_count": null,
   "id": "857f3300",
   "metadata": {
    "papermill": {
     "duration": null,
     "end_time": null,
     "exception": null,
     "start_time": null,
     "status": "pending"
    },
    "tags": []
   },
   "outputs": [],
   "source": []
  },
  {
   "cell_type": "markdown",
   "id": "e7620e6d",
   "metadata": {
    "execution": {
     "iopub.execute_input": "2022-04-04T07:57:33.811022Z",
     "iopub.status.busy": "2022-04-04T07:57:33.810589Z",
     "iopub.status.idle": "2022-04-04T07:57:33.815725Z",
     "shell.execute_reply": "2022-04-04T07:57:33.814755Z",
     "shell.execute_reply.started": "2022-04-04T07:57:33.810985Z"
    },
    "papermill": {
     "duration": null,
     "end_time": null,
     "exception": null,
     "start_time": null,
     "status": "pending"
    },
    "tags": []
   },
   "source": [
    "## Bivarient Analysis"
   ]
  },
  {
   "cell_type": "markdown",
   "id": "4122ef9c",
   "metadata": {
    "papermill": {
     "duration": null,
     "end_time": null,
     "exception": null,
     "start_time": null,
     "status": "pending"
    },
    "tags": []
   },
   "source": [
    "## Multivarient Analysis"
   ]
  },
  {
   "cell_type": "code",
   "execution_count": null,
   "id": "d92a57fa",
   "metadata": {
    "papermill": {
     "duration": null,
     "end_time": null,
     "exception": null,
     "start_time": null,
     "status": "pending"
    },
    "tags": []
   },
   "outputs": [],
   "source": []
  },
  {
   "cell_type": "markdown",
   "id": "8d2882ff",
   "metadata": {
    "papermill": {
     "duration": null,
     "end_time": null,
     "exception": null,
     "start_time": null,
     "status": "pending"
    },
    "tags": []
   },
   "source": [
    "## Modeling"
   ]
  },
  {
   "cell_type": "code",
   "execution_count": null,
   "id": "05c265ca",
   "metadata": {
    "execution": {
     "iopub.execute_input": "2022-04-06T18:31:25.691549Z",
     "iopub.status.busy": "2022-04-06T18:31:25.691033Z",
     "iopub.status.idle": "2022-04-06T18:31:25.801643Z",
     "shell.execute_reply": "2022-04-06T18:31:25.800725Z",
     "shell.execute_reply.started": "2022-04-06T18:31:25.691509Z"
    },
    "papermill": {
     "duration": null,
     "end_time": null,
     "exception": null,
     "start_time": null,
     "status": "pending"
    },
    "tags": []
   },
   "outputs": [],
   "source": [
    "x=df.drop(['Id', 'groupId', 'matchId','winPlacePerc'],axis=1)\n",
    "y=df['winPlacePerc']\n"
   ]
  },
  {
   "cell_type": "markdown",
   "id": "57b649c8",
   "metadata": {
    "papermill": {
     "duration": null,
     "end_time": null,
     "exception": null,
     "start_time": null,
     "status": "pending"
    },
    "tags": []
   },
   "source": [
    "### Data preprocessing"
   ]
  },
  {
   "cell_type": "code",
   "execution_count": null,
   "id": "0a2cc5ad",
   "metadata": {
    "execution": {
     "iopub.execute_input": "2022-04-06T18:31:29.572275Z",
     "iopub.status.busy": "2022-04-06T18:31:29.571980Z",
     "iopub.status.idle": "2022-04-06T18:31:37.461533Z",
     "shell.execute_reply": "2022-04-06T18:31:37.460640Z",
     "shell.execute_reply.started": "2022-04-06T18:31:29.572239Z"
    },
    "papermill": {
     "duration": null,
     "end_time": null,
     "exception": null,
     "start_time": null,
     "status": "pending"
    },
    "tags": []
   },
   "outputs": [],
   "source": [
    "scale_one_range=StandardScaler()\n",
    "after_scale_df=scale_one_range.fit_transform(x)"
   ]
  },
  {
   "cell_type": "markdown",
   "id": "7d3909ef",
   "metadata": {
    "papermill": {
     "duration": null,
     "end_time": null,
     "exception": null,
     "start_time": null,
     "status": "pending"
    },
    "tags": []
   },
   "source": [
    "## Data spliting"
   ]
  },
  {
   "cell_type": "code",
   "execution_count": null,
   "id": "85d3cd42",
   "metadata": {
    "execution": {
     "iopub.execute_input": "2022-04-06T18:31:37.463376Z",
     "iopub.status.busy": "2022-04-06T18:31:37.463140Z",
     "iopub.status.idle": "2022-04-06T18:31:39.871552Z",
     "shell.execute_reply": "2022-04-06T18:31:39.870725Z",
     "shell.execute_reply.started": "2022-04-06T18:31:37.463347Z"
    },
    "papermill": {
     "duration": null,
     "end_time": null,
     "exception": null,
     "start_time": null,
     "status": "pending"
    },
    "tags": []
   },
   "outputs": [],
   "source": [
    "X_train, X_test, y_train, y_test = train_test_split(\n",
    "    after_scale_df, y, test_size=0.10, random_state=42)\n"
   ]
  },
  {
   "cell_type": "markdown",
   "id": "1c12dde1",
   "metadata": {
    "papermill": {
     "duration": null,
     "end_time": null,
     "exception": null,
     "start_time": null,
     "status": "pending"
    },
    "tags": []
   },
   "source": [
    "#### linearRegression"
   ]
  },
  {
   "cell_type": "code",
   "execution_count": null,
   "id": "a75ab4e0",
   "metadata": {
    "execution": {
     "iopub.execute_input": "2022-04-06T18:11:23.878874Z",
     "iopub.status.busy": "2022-04-06T18:11:23.878542Z",
     "iopub.status.idle": "2022-04-06T18:11:30.182297Z",
     "shell.execute_reply": "2022-04-06T18:11:30.177948Z",
     "shell.execute_reply.started": "2022-04-06T18:11:23.878839Z"
    },
    "papermill": {
     "duration": null,
     "end_time": null,
     "exception": null,
     "start_time": null,
     "status": "pending"
    },
    "tags": []
   },
   "outputs": [],
   "source": [
    "model_li=LinearRegression()\n",
    "model_li.fit(X_train,y_train)\n",
    "# for bias score\n",
    "exit_Train_data_x_y_predict=model_li.predict(X_train)\n",
    "print(f' this bias score {mean_absolute_error(y_train,exit_Train_data_x_y_predict)}')\n",
    "## for varienc socre\n",
    "y_test_predict=model_li.predict(X_test)\n",
    "print(f' this bias score {mean_absolute_error(y_test,y_test_predict)}')\n",
    "\n"
   ]
  },
  {
   "cell_type": "code",
   "execution_count": null,
   "id": "874f660e",
   "metadata": {
    "execution": {
     "iopub.execute_input": "2022-04-06T18:31:53.909725Z",
     "iopub.status.busy": "2022-04-06T18:31:53.909407Z",
     "iopub.status.idle": "2022-04-06T18:31:56.722615Z",
     "shell.execute_reply": "2022-04-06T18:31:56.721694Z",
     "shell.execute_reply.started": "2022-04-06T18:31:53.909668Z"
    },
    "papermill": {
     "duration": null,
     "end_time": null,
     "exception": null,
     "start_time": null,
     "status": "pending"
    },
    "tags": []
   },
   "outputs": [],
   "source": [
    "from sklearn.linear_model import Ridge,Lasso\n",
    "model_rg=Ridge(alpha=00.1)\n",
    "model_rg.fit(X_train,y_train)\n",
    "# for bias score\n",
    "exit_Train_data_x_y_predict=model_rg.predict(X_train)\n",
    "print(f' this bias score {mean_absolute_error(y_train,exit_Train_data_x_y_predict)}')\n",
    "## for varienc socre\n",
    "y_test_predict=model_rg.predict(X_test)\n",
    "print(f' this bias score {mean_absolute_error(y_test,y_test_predict)}')\n"
   ]
  },
  {
   "cell_type": "markdown",
   "id": "8adcdead",
   "metadata": {
    "papermill": {
     "duration": null,
     "end_time": null,
     "exception": null,
     "start_time": null,
     "status": "pending"
    },
    "tags": []
   },
   "source": [
    "## lasso"
   ]
  },
  {
   "cell_type": "code",
   "execution_count": null,
   "id": "5dba8e43",
   "metadata": {
    "execution": {
     "iopub.execute_input": "2022-04-06T18:31:56.725097Z",
     "iopub.status.busy": "2022-04-06T18:31:56.724542Z",
     "iopub.status.idle": "2022-04-06T18:31:59.417047Z",
     "shell.execute_reply": "2022-04-06T18:31:59.416116Z",
     "shell.execute_reply.started": "2022-04-06T18:31:56.725048Z"
    },
    "papermill": {
     "duration": null,
     "end_time": null,
     "exception": null,
     "start_time": null,
     "status": "pending"
    },
    "tags": []
   },
   "outputs": [],
   "source": [
    "model_lass=Lasso()\n",
    "model_lass.fit(X_train,y_train)\n",
    "# for bias score\n",
    "exit_Train_data_x_y_predict=model_lass.predict(X_train)\n",
    "print(f' this bias score {mean_absolute_error(y_train,exit_Train_data_x_y_predict)}')\n",
    "## for varienc socre\n",
    "y_test_predict=model_lass.predict(X_test)\n",
    "print(f' this bias score {mean_absolute_error(y_test,y_test_predict)}')"
   ]
  },
  {
   "cell_type": "code",
   "execution_count": null,
   "id": "a5317ee0",
   "metadata": {
    "execution": {
     "iopub.execute_input": "2022-04-06T18:32:13.385799Z",
     "iopub.status.busy": "2022-04-06T18:32:13.385504Z",
     "iopub.status.idle": "2022-04-06T18:32:14.802795Z",
     "shell.execute_reply": "2022-04-06T18:32:14.801845Z",
     "shell.execute_reply.started": "2022-04-06T18:32:13.385767Z"
    },
    "papermill": {
     "duration": null,
     "end_time": null,
     "exception": null,
     "start_time": null,
     "status": "pending"
    },
    "tags": []
   },
   "outputs": [],
   "source": [
    "# summision round\n",
    "model_lass.fit(after_scale_df,y)"
   ]
  },
  {
   "cell_type": "code",
   "execution_count": null,
   "id": "81bb42d7",
   "metadata": {
    "papermill": {
     "duration": null,
     "end_time": null,
     "exception": null,
     "start_time": null,
     "status": "pending"
    },
    "tags": []
   },
   "outputs": [],
   "source": []
  },
  {
   "cell_type": "code",
   "execution_count": null,
   "id": "d607ac4f",
   "metadata": {
    "execution": {
     "iopub.execute_input": "2022-04-06T18:35:31.062115Z",
     "iopub.status.busy": "2022-04-06T18:35:31.061793Z",
     "iopub.status.idle": "2022-04-06T18:35:34.750195Z",
     "shell.execute_reply": "2022-04-06T18:35:34.749414Z",
     "shell.execute_reply.started": "2022-04-06T18:35:31.062081Z"
    },
    "papermill": {
     "duration": null,
     "end_time": null,
     "exception": null,
     "start_time": null,
     "status": "pending"
    },
    "tags": []
   },
   "outputs": [],
   "source": [
    "x=df_test.drop(['Id', 'groupId', 'matchId',],axis=1)\n",
    "x['matchType'].replace(x['matchType'].unique(),list(range(0,16)),inplace=True)\n",
    "after_scale_df_test=scale_one_range.fit_transform(x)"
   ]
  },
  {
   "cell_type": "code",
   "execution_count": null,
   "id": "8d846090",
   "metadata": {
    "execution": {
     "iopub.execute_input": "2022-04-06T18:36:00.031693Z",
     "iopub.status.busy": "2022-04-06T18:36:00.031205Z",
     "iopub.status.idle": "2022-04-06T18:36:00.096951Z",
     "shell.execute_reply": "2022-04-06T18:36:00.095950Z",
     "shell.execute_reply.started": "2022-04-06T18:36:00.031634Z"
    },
    "papermill": {
     "duration": null,
     "end_time": null,
     "exception": null,
     "start_time": null,
     "status": "pending"
    },
    "tags": []
   },
   "outputs": [],
   "source": [
    "y_predict=model_lass.predict(after_scale_df_test)"
   ]
  },
  {
   "cell_type": "code",
   "execution_count": null,
   "id": "d0e0d381",
   "metadata": {
    "execution": {
     "iopub.execute_input": "2022-04-06T18:37:36.533289Z",
     "iopub.status.busy": "2022-04-06T18:37:36.532863Z",
     "iopub.status.idle": "2022-04-06T18:37:36.540633Z",
     "shell.execute_reply": "2022-04-06T18:37:36.539925Z",
     "shell.execute_reply.started": "2022-04-06T18:37:36.533256Z"
    },
    "papermill": {
     "duration": null,
     "end_time": null,
     "exception": null,
     "start_time": null,
     "status": "pending"
    },
    "tags": []
   },
   "outputs": [],
   "source": [
    "submission_function['winPlacePerc']=y_predict"
   ]
  },
  {
   "cell_type": "code",
   "execution_count": null,
   "id": "5e93b11b",
   "metadata": {
    "execution": {
     "iopub.execute_input": "2022-04-06T18:37:43.748863Z",
     "iopub.status.busy": "2022-04-06T18:37:43.748218Z",
     "iopub.status.idle": "2022-04-06T18:37:43.762236Z",
     "shell.execute_reply": "2022-04-06T18:37:43.760993Z",
     "shell.execute_reply.started": "2022-04-06T18:37:43.748801Z"
    },
    "papermill": {
     "duration": null,
     "end_time": null,
     "exception": null,
     "start_time": null,
     "status": "pending"
    },
    "tags": []
   },
   "outputs": [],
   "source": [
    "submission_function"
   ]
  },
  {
   "cell_type": "code",
   "execution_count": null,
   "id": "241df1e7",
   "metadata": {
    "execution": {
     "iopub.execute_input": "2022-04-06T18:51:45.664852Z",
     "iopub.status.busy": "2022-04-06T18:51:45.663285Z",
     "iopub.status.idle": "2022-04-06T18:51:54.238077Z",
     "shell.execute_reply": "2022-04-06T18:51:54.237366Z",
     "shell.execute_reply.started": "2022-04-06T18:51:45.664768Z"
    },
    "papermill": {
     "duration": null,
     "end_time": null,
     "exception": null,
     "start_time": null,
     "status": "pending"
    },
    "tags": []
   },
   "outputs": [],
   "source": [
    "submission_function.to_csv('submission.csv')"
   ]
  },
  {
   "cell_type": "code",
   "execution_count": null,
   "id": "f8a48a5f",
   "metadata": {
    "execution": {
     "iopub.execute_input": "2022-04-06T18:12:30.376410Z",
     "iopub.status.busy": "2022-04-06T18:12:30.376096Z",
     "iopub.status.idle": "2022-04-06T18:12:30.381704Z",
     "shell.execute_reply": "2022-04-06T18:12:30.380354Z",
     "shell.execute_reply.started": "2022-04-06T18:12:30.376376Z"
    },
    "papermill": {
     "duration": null,
     "end_time": null,
     "exception": null,
     "start_time": null,
     "status": "pending"
    },
    "tags": []
   },
   "outputs": [],
   "source": [
    "from sklearn.svm import SVR"
   ]
  },
  {
   "cell_type": "code",
   "execution_count": null,
   "id": "86e7d9ff",
   "metadata": {
    "execution": {
     "iopub.execute_input": "2022-04-06T18:12:30.490018Z",
     "iopub.status.busy": "2022-04-06T18:12:30.489744Z"
    },
    "papermill": {
     "duration": null,
     "end_time": null,
     "exception": null,
     "start_time": null,
     "status": "pending"
    },
    "tags": []
   },
   "outputs": [],
   "source": [
    "model_svr=SVR()\n",
    "model_svr.fit(X_train,y_train)\n",
    "# for bias score\n",
    "exit_Train_data_x_y_predict=model_svr.predict(X_train)\n",
    "print(f' this bias score {mean_absolute_error(y_train,exit_Train_data_x_y_predict)}')\n",
    "## for varienc socre\n",
    "y_test_predict=model_svr.predict(X_test)\n",
    "print(f' this bias score {mean_absolute_error(y_test,y_test_predict)}')"
   ]
  },
  {
   "cell_type": "code",
   "execution_count": null,
   "id": "b091b2bf",
   "metadata": {
    "papermill": {
     "duration": null,
     "end_time": null,
     "exception": null,
     "start_time": null,
     "status": "pending"
    },
    "tags": []
   },
   "outputs": [],
   "source": [
    "from sklearn.neighbors import KNeighborsRegressor\n",
    "\n",
    "neigh = KNeighborsRegressor(n_neighbors=2)\n",
    "\n",
    "neigh.fit(X_train,y_train)\n",
    "# for bias score\n",
    "exit_Train_data_x_y_predict=neigh.predict(X_train)\n",
    "print(f' this bias score {mean_absolute_error(y_train,exit_Train_data_x_y_predict)}')\n",
    "## for varienc socre\n",
    "y_test_predict=neigh.predict(X_test)\n",
    "print(f' this bias score {mean_absolute_error(y_test,y_test_predict)}')"
   ]
  },
  {
   "cell_type": "code",
   "execution_count": null,
   "id": "e2f545bd",
   "metadata": {
    "papermill": {
     "duration": null,
     "end_time": null,
     "exception": null,
     "start_time": null,
     "status": "pending"
    },
    "tags": []
   },
   "outputs": [],
   "source": [
    "from sklearn.preprocessing import PolynomialFeatures   # this cell need all data for changing polynomial feature left on process heree.\n",
    "model_pol=PolynomialFeatures(2)\n",
    "polinomila_data=model_pol.fit_transform(X_train)\n",
    "# for bias score\n",
    "model_li=LinearRegression()\n",
    "model_li.fit(polinomila_data,y_train)\n",
    "# for bias score\n",
    "exit_Train_data_x_y_predict=model_li.predict(X_train)\n",
    "print(f' this bias score {mean_absolute_error(y_train,exit_Train_data_x_y_predict)}')\n",
    "## for varienc socre\n",
    "y_test_predict=model_li.predict(X_test)\n",
    "print(f' this bias score {mean_absolute_error(y_test,y_test_predict)}')\n",
    "\n"
   ]
  },
  {
   "cell_type": "markdown",
   "id": "bf74bc07",
   "metadata": {
    "papermill": {
     "duration": null,
     "end_time": null,
     "exception": null,
     "start_time": null,
     "status": "pending"
    },
    "tags": []
   },
   "source": [
    "#### decision tree regression"
   ]
  },
  {
   "cell_type": "code",
   "execution_count": null,
   "id": "c88e533b",
   "metadata": {
    "execution": {
     "iopub.execute_input": "2022-04-06T04:46:59.950789Z",
     "iopub.status.busy": "2022-04-06T04:46:59.950453Z",
     "iopub.status.idle": "2022-04-06T04:48:31.878977Z",
     "shell.execute_reply": "2022-04-06T04:48:31.877961Z",
     "shell.execute_reply.started": "2022-04-06T04:46:59.950749Z"
    },
    "papermill": {
     "duration": null,
     "end_time": null,
     "exception": null,
     "start_time": null,
     "status": "pending"
    },
    "tags": []
   },
   "outputs": [],
   "source": [
    "model_de=DecisionTreeRegressor()\n",
    "model_de.fit(X_train,y_train)\n",
    "# for bias score\n",
    "exit_Train_data_x_y_predict=model_de.predict(X_train)\n",
    "print(f' this bias score {mean_absolute_error(y_train,exit_Train_data_x_y_predict)}')\n",
    "## for varienc socre\n",
    "y_test_predict=model_de.predict(X_test)\n",
    "print(f' this varience score {mean_absolute_error(y_test,y_test_predict)}')"
   ]
  },
  {
   "cell_type": "markdown",
   "id": "24adbbbf",
   "metadata": {
    "papermill": {
     "duration": null,
     "end_time": null,
     "exception": null,
     "start_time": null,
     "status": "pending"
    },
    "tags": []
   },
   "source": [
    "### Essamble Methods"
   ]
  },
  {
   "cell_type": "markdown",
   "id": "8b7138ea",
   "metadata": {
    "papermill": {
     "duration": null,
     "end_time": null,
     "exception": null,
     "start_time": null,
     "status": "pending"
    },
    "tags": []
   },
   "source": [
    "#### Randomforestregression"
   ]
  },
  {
   "cell_type": "code",
   "execution_count": null,
   "id": "3953f655",
   "metadata": {
    "execution": {
     "iopub.execute_input": "2022-04-06T04:42:33.146523Z",
     "iopub.status.busy": "2022-04-06T04:42:33.14592Z",
     "iopub.status.idle": "2022-04-06T04:46:32.986828Z",
     "shell.execute_reply": "2022-04-06T04:46:32.98595Z",
     "shell.execute_reply.started": "2022-04-06T04:42:33.14647Z"
    },
    "papermill": {
     "duration": null,
     "end_time": null,
     "exception": null,
     "start_time": null,
     "status": "pending"
    },
    "tags": []
   },
   "outputs": [],
   "source": [
    "model_re=RandomForestRegressor(n_estimators=4)\n",
    "model_re.fit(X_train,y_train)\n",
    "# for bias score\n",
    "exit_Train_data_x_y_predict=model_re.predict(X_train)\n",
    "print(f' this bias score {mean_absolute_error(y_train,exit_Train_data_x_y_predict)}')\n",
    "## for varienc socre\n",
    "y_test_predict=model_re.predict(X_test)\n",
    "print(f' this varience score {mean_absolute_error(y_test,y_test_predict)}')"
   ]
  },
  {
   "cell_type": "code",
   "execution_count": null,
   "id": "b4e156c0",
   "metadata": {
    "execution": {
     "iopub.execute_input": "2022-04-06T04:49:55.630824Z",
     "iopub.status.busy": "2022-04-06T04:49:55.630017Z",
     "iopub.status.idle": "2022-04-06T04:49:55.958063Z",
     "shell.execute_reply": "2022-04-06T04:49:55.956844Z",
     "shell.execute_reply.started": "2022-04-06T04:49:55.630786Z"
    },
    "papermill": {
     "duration": null,
     "end_time": null,
     "exception": null,
     "start_time": null,
     "status": "pending"
    },
    "tags": []
   },
   "outputs": [],
   "source": [
    "collect()"
   ]
  },
  {
   "cell_type": "code",
   "execution_count": null,
   "id": "4ddfaf71",
   "metadata": {
    "execution": {
     "iopub.execute_input": "2022-04-06T04:49:59.420642Z",
     "iopub.status.busy": "2022-04-06T04:49:59.419495Z",
     "iopub.status.idle": "2022-04-06T04:49:59.426871Z",
     "shell.execute_reply": "2022-04-06T04:49:59.425819Z",
     "shell.execute_reply.started": "2022-04-06T04:49:59.420582Z"
    },
    "papermill": {
     "duration": null,
     "end_time": null,
     "exception": null,
     "start_time": null,
     "status": "pending"
    },
    "tags": []
   },
   "outputs": [],
   "source": [
    "from sklearn.ensemble import  AdaBoostRegressor,BaggingRegressor,ExtraTreesRegressor,GradientBoostingRegressor,HistGradientBoostingRegressor,StackingRegressor,VotingRegressor"
   ]
  },
  {
   "cell_type": "code",
   "execution_count": null,
   "id": "08ce9eca",
   "metadata": {
    "execution": {
     "iopub.execute_input": "2022-04-06T04:55:46.645077Z",
     "iopub.status.busy": "2022-04-06T04:55:46.644775Z"
    },
    "papermill": {
     "duration": null,
     "end_time": null,
     "exception": null,
     "start_time": null,
     "status": "pending"
    },
    "tags": []
   },
   "outputs": [],
   "source": [
    "model_list=[]\n",
    "for models in [AdaBoostRegressor,BaggingRegressor,ExtraTreesRegressor,GradientBoostingRegressor,HistGradientBoostingRegressor,StackingRegressor,VotingRegressor]:\n",
    "    model_esamble=models()\n",
    "    print(model_esamble)\n",
    "    model_esamble.fit(X_train,y_train)\n",
    "    # for bias score\n",
    "    exit_Train_data_x_y_predict=model_esamble.predict(X_train)\n",
    "    print(f' this bias score {mean_absolute_error(y_train,exit_Train_data_x_y_predict)}')\n",
    "    ## for varienc socre\n",
    "    y_test_predict=model_esamble.predict(X_test)\n",
    "    print(f' this varience score {mean_absolute_error(y_test,y_test_predict)}')\n",
    "    model_list.append(model_esamble)\n",
    "    collect()\n",
    "    print('\\n','-'*15)"
   ]
  },
  {
   "cell_type": "markdown",
   "id": "bf97db66",
   "metadata": {
    "papermill": {
     "duration": null,
     "end_time": null,
     "exception": null,
     "start_time": null,
     "status": "pending"
    },
    "tags": []
   },
   "source": [
    "#### lgbmregressor"
   ]
  },
  {
   "cell_type": "code",
   "execution_count": null,
   "id": "6be1b791",
   "metadata": {
    "papermill": {
     "duration": null,
     "end_time": null,
     "exception": null,
     "start_time": null,
     "status": "pending"
    },
    "tags": []
   },
   "outputs": [],
   "source": [
    " lgbm = LGBMRegressor(\n",
    "        num_leaves=2 ** np.random.randint(3, 8),\n",
    "        learning_rate = 10 ** (-np.random.uniform(0.1,2)),\n",
    "        n_estimators = 100,\n",
    "        min_child_samples = 1000, \n",
    "        subsample=np.random.uniform(0.5,1.0), \n",
    "        subsample_freq=1,\n",
    "        n_jobs= -1\n",
    "    )\n",
    "lgbm.fit(X_train,y_train,eval_set = (X_train, y_test), early_stopping_rounds = 10)\n",
    "\n",
    "exit_Train_data_x_y_predict=lgbm.predict(X_train)\n",
    "print(f' this bias score {mean_absolute_error(y_train,exit_data_x_y_predict)}')\n",
    "## for varienc socre\n",
    "y_test_predict=lgbm.predict(X_test)\n",
    "print(f' this bias score {mean_absolute_error(y_test,y_test_predict)}')\n",
    "\n",
    "collect()"
   ]
  },
  {
   "cell_type": "code",
   "execution_count": null,
   "id": "2573ac43",
   "metadata": {
    "execution": {
     "iopub.execute_input": "2022-04-04T09:21:34.675364Z",
     "iopub.status.busy": "2022-04-04T09:21:34.674798Z",
     "iopub.status.idle": "2022-04-04T09:21:34.703023Z",
     "shell.execute_reply": "2022-04-04T09:21:34.702444Z",
     "shell.execute_reply.started": "2022-04-04T09:21:34.675193Z"
    },
    "papermill": {
     "duration": null,
     "end_time": null,
     "exception": null,
     "start_time": null,
     "status": "pending"
    },
    "tags": []
   },
   "outputs": [],
   "source": [
    "model_x = xgb.XGBRegressor(\n",
    "    n_estimators=800,\n",
    "    learning_rate=0.03,\n",
    "    max_depth=12,\n",
    "    subsample=0.95,\n",
    "    colsample_bytree=0.9,\n",
    "    #colsample_bylevel=0.75,\n",
    "    missing=-999,\n",
    "    random_state=1,\n",
    "    tree_method='gpu_hist'  \n",
    "    )\n",
    "model_x.(X_train,y_train,eval_set = (X_train, y_test), early_stopping_rounds = 10)\n",
    "\n",
    "exit_Train_data_x_y_predict=model_x.predict(X_train)\n",
    "print(f' this bias score {mean_absolute_error(y_train,exit_data_x_y_predict)}')\n",
    "## for varienc socre\n",
    "y_test_predict=model_x.predict(X_test)\n",
    "print(f' this bias score {mean_absolute_error(y_test,y_test_predict)}')\n",
    "\n",
    "collect()"
   ]
  },
  {
   "cell_type": "markdown",
   "id": "50ad9313",
   "metadata": {
    "papermill": {
     "duration": null,
     "end_time": null,
     "exception": null,
     "start_time": null,
     "status": "pending"
    },
    "tags": []
   },
   "source": [
    "#### adboost"
   ]
  },
  {
   "cell_type": "code",
   "execution_count": null,
   "id": "8ed1d159",
   "metadata": {
    "papermill": {
     "duration": null,
     "end_time": null,
     "exception": null,
     "start_time": null,
     "status": "pending"
    },
    "tags": []
   },
   "outputs": [],
   "source": []
  },
  {
   "cell_type": "markdown",
   "id": "0af15010",
   "metadata": {
    "papermill": {
     "duration": null,
     "end_time": null,
     "exception": null,
     "start_time": null,
     "status": "pending"
    },
    "tags": []
   },
   "source": [
    "#### DNN"
   ]
  },
  {
   "cell_type": "code",
   "execution_count": null,
   "id": "d2e3453e",
   "metadata": {
    "papermill": {
     "duration": null,
     "end_time": null,
     "exception": null,
     "start_time": null,
     "status": "pending"
    },
    "tags": []
   },
   "outputs": [],
   "source": [
    "X_train, X_test, y_train, y_test"
   ]
  },
  {
   "cell_type": "code",
   "execution_count": null,
   "id": "893298ab",
   "metadata": {
    "papermill": {
     "duration": null,
     "end_time": null,
     "exception": null,
     "start_time": null,
     "status": "pending"
    },
    "tags": []
   },
   "outputs": [],
   "source": [
    "\n",
    "from keras.models import Sequential\n",
    "from keras.layers import Dense\n",
    "from keras.callbacks import ModelCheckpoint\n",
    "NN_model = Sequential()\n",
    "NN_model.add(Dense(x_train.shape[1],  input_dim = X_train.shape[1], activation='relu'))\n",
    "NN_model.add(Dense(136, activation='relu'))\n",
    "NN_model.add(Dense(136, activation='relu'))\n",
    "NN_model.add(Dense(136, activation='relu'))\n",
    "NN_model.add(Dense(136, activation='relu'))\n",
    "\n",
    "# output Layer\n",
    "NN_model.add(Dense(1, activation='linear'))\n",
    "\n",
    "# Compile the network :\n",
    "NN_model.compile(loss='mean_absolute_error', optimizer='adam', metrics=['mean_absolute_error'])\n",
    "\n",
    "NN_model.fit(x=X_train, \n",
    "                 y=y_train, \n",
    "                 batch_size=1000,\n",
    "                 epochs=30, )"
   ]
  }
 ],
 "metadata": {
  "kernelspec": {
   "display_name": "Python 3 (ipykernel)",
   "language": "python",
   "name": "python3"
  },
  "language_info": {
   "codemirror_mode": {
    "name": "ipython",
    "version": 3
   },
   "file_extension": ".py",
   "mimetype": "text/x-python",
   "name": "python",
   "nbconvert_exporter": "python",
   "pygments_lexer": "ipython3",
   "version": "3.9.10"
  },
  "papermill": {
   "default_parameters": {},
   "duration": 144.87718,
   "end_time": "2022-04-06T18:54:36.605960",
   "environment_variables": {},
   "exception": true,
   "input_path": "__notebook__.ipynb",
   "output_path": "__notebook__.ipynb",
   "parameters": {},
   "start_time": "2022-04-06T18:52:11.728780",
   "version": "2.3.3"
  }
 },
 "nbformat": 4,
 "nbformat_minor": 5
}
